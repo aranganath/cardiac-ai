{
 "cells": [
  {
   "cell_type": "code",
   "execution_count": null,
   "metadata": {},
   "outputs": [],
   "source": [
    "from torch.utils.data import DataLoader\n",
    "from utils import *\n",
    "from matplotlib import pyplot\n",
    "import os\n",
    "from pdb import set_trace"
   ]
  },
  {
   "cell_type": "code",
   "execution_count": null,
   "metadata": {},
   "outputs": [],
   "source": [
    "device = 'cuda' if torch.cuda.is_available() else 'cpu'\n",
    "torch.set_default_device(device)\n",
    "print(device)"
   ]
  },
  {
   "cell_type": "code",
   "execution_count": null,
   "metadata": {},
   "outputs": [],
   "source": [
    "torch.set_default_dtype(torch.float64)\n",
    "# Okay, we kind of have a way of loading the data\n",
    "# We need to collect the data and feed it to the transformer model\n",
    "# Now how do we that ?\n",
    "\n",
    "\n",
    "# Torch Tensor data !\n",
    "path = './Datasets/intracardiac_dataset/'\n",
    "VmTrainData, pECGTrainData, VmDataTest, pECGTestData  = fileReader(path, 100)\n",
    "print('Data loading from files - complete')\n",
    "\n",
    "VmTrainData = (VmTrainData - torch.min(VmTrainData))/(torch.max(VmTrainData) - torch.min(VmTrainData))\n",
    "pECGTrainData = (pECGTrainData - torch.min(pECGTrainData))/(torch.max(pECGTrainData) - torch.min(pECGTrainData))\n",
    "\n",
    "VmDataTest = (VmDataTest - torch.min(VmDataTest))/(torch.max(VmDataTest) - torch.min(VmDataTest))\n",
    "\n",
    "pECGTestData = (pECGTestData - torch.min(pECGTestData))/(torch.max(pECGTestData) - torch.min(pECGTestData))\n",
    "print('Normalization - complete!')"
   ]
  },
  {
   "cell_type": "code",
   "execution_count": null,
   "metadata": {},
   "outputs": [],
   "source": [
    "dim_val = 320\n",
    "n_heads = 32\n",
    "n_decoder_layers = 2\n",
    "n_encoder_layers = 2\n",
    "input_size = 12\n",
    "dec_seq_len = 498\n",
    "enc_seq_len = 500\n",
    "output_sequence_length = 75\n",
    "max_seq_len = enc_seq_len\n",
    "train_batch_size = 8\n",
    "test_batch_size = 10\n",
    "batch_first= False\n",
    "output_size = 75\n",
    "window_size = 75"
   ]
  },
  {
   "cell_type": "code",
   "execution_count": null,
   "metadata": {},
   "outputs": [],
   "source": [
    "from dataset import TransformerDataset\n",
    "# Get the indices of the sequences\n",
    "# The idea is: start - stop, where stop - start is window_size\n",
    "# This means, each tuple in VmInd and pECGInd is 50 steps\n",
    "datInd = get_indices_entire_sequence(VmData = VmTrainData, \n",
    "                                            ECGData = pECGTrainData, \n",
    "                                            window_size= window_size, \n",
    "                                            step_size = window_size)\n",
    "\n",
    "# Now let's collect the training data in the Transformer Dataset class\n",
    "TrainData = TransformerDataset(VmData = VmTrainData,\n",
    "                                    datInd=datInd,\n",
    "                                    ECGData = pECGTrainData,\n",
    "                                    enc_seq_len = enc_seq_len,\n",
    "                                    dec_seq_len = dec_seq_len,\n",
    "                                    target_seq_len = output_sequence_length\n",
    "                                )\n",
    "\n",
    "\n",
    "TrainData = DataLoader(TrainData, train_batch_size)\n",
    "\n",
    "datInd = get_indices_entire_sequence(VmData = VmDataTest, \n",
    "                                            ECGData = pECGTestData, \n",
    "                                            window_size= window_size, \n",
    "                                            step_size = window_size)\n",
    "\n",
    "\n",
    "# Now, let's load the test data\n",
    "TestData = TransformerDataset(VmData = VmDataTest, \n",
    "                                    ECGData = pECGTestData,\n",
    "                                    datInd=datInd,\n",
    "                                    enc_seq_len = enc_seq_len,\n",
    "                                    dec_seq_len = dec_seq_len,\n",
    "                                    target_seq_len = output_sequence_length\n",
    "                                )\n",
    "\n",
    "TestData = DataLoader(TestData, test_batch_size)"
   ]
  },
  {
   "cell_type": "code",
   "execution_count": null,
   "metadata": {},
   "outputs": [],
   "source": [
    "from models import TimeSeriesTransformer\n",
    "model = TimeSeriesTransformer(\n",
    "    dim_val=dim_val,\n",
    "    batch_first=batch_first,\n",
    "    input_size=input_size, \n",
    "    dec_seq_len=dec_seq_len,\n",
    "    out_seq_len=output_sequence_length, \n",
    "    n_decoder_layers=n_decoder_layers,\n",
    "    n_encoder_layers=n_encoder_layers,\n",
    "    n_heads=n_heads,\n",
    "    num_predicted_features=output_size\n",
    ")\n",
    "\n",
    "# model = torch.nn.DataParallel(model)\n",
    "\n",
    "# Define the MSE loss\n",
    "criterion = torch.nn.HuberLoss(delta=5.0)\n",
    "\n",
    "# Define the optimizer\n",
    "optimizer = torch.optim.Adam(model.parameters(), lr = 1e-3)\n",
    "\n",
    "scheduler = torch.optim.lr_scheduler.StepLR(optimizer, step_size=5000, gamma=0.1)"
   ]
  },
  {
   "cell_type": "code",
   "execution_count": null,
   "metadata": {},
   "outputs": [],
   "source": [
    "EPOCHS= 40000\n",
    "train_losses = []\n",
    "src_mask = generate_square_subsequent_mask(\n",
    "                dim1=output_sequence_length,\n",
    "                dim2=enc_seq_len\n",
    "            )\n",
    "tgt_mask = generate_square_subsequent_mask(\n",
    "    dim1=output_sequence_length,\n",
    "    dim2=output_sequence_length\n",
    ")\n",
    "\n",
    "pbar = tqdm(range(EPOCHS), desc='Training')\n",
    "for epoch in pbar:\n",
    "    for src, trg, trg_y in TrainData:\n",
    "        optimizer.zero_grad()\n",
    "        prediction = model(\n",
    "            src=src.permute(1,0,2).to(device),\n",
    "            tgt=trg.permute(0,2,1,3).permute(1,0,2,3).to(device),\n",
    "            src_mask=src_mask,\n",
    "            tgt_mask=tgt_mask\n",
    "            )\n",
    "        \n",
    "        \n",
    "        loss = criterion(prediction.view_as(trg).to(device), trg_y.to(device))\n",
    "        loss.backward()\n",
    "        optimizer.step()\n",
    "        # scheduler.step()\n",
    "        \n",
    "    \n",
    "    pbar.set_description('Training   Loss: '+str(loss.item()))\n",
    "    train_losses.append(loss.item())\n",
    "    \n",
    "    \n",
    "    \n",
    "        "
   ]
  },
  {
   "cell_type": "code",
   "execution_count": null,
   "metadata": {},
   "outputs": [],
   "source": [
    "\n",
    "model.train = True\n",
    "with torch.no_grad():\n",
    "    src, trg, trg_y = next(iter(TestData))\n",
    "    prediction = model(\n",
    "            src=src.permute(1,0,2).to(device),\n",
    "            tgt=trg.permute(0,2,1,3).permute(1,0,2,3).to(device),\n",
    "            src_mask=src_mask,\n",
    "            tgt_mask=tgt_mask\n",
    "        )\n",
    "     \n",
    "    \n",
    "    pyplot.plot(prediction.view_as(trg_y).reshape(-1,trg_y.shape[1]*trg_y.shape[2] , 75).detach().cpu()[0,:,0])\n",
    "    pyplot.plot(trg_y.reshape(-1, trg_y.shape[1]*trg_y.shape[2], 75).detach().cpu()[0,:,0])\n",
    "    if not os.path.isdir('graphs'):\n",
    "        os.mkdir('graphs')\n",
    "    # pyplot.savefig('./graphs/model_'+str(dim_val) +'_encoder_'+ str(n_encoder_layers)+'_decoder_'+str(n_decoder_layers)+'_epochs_'+str(epoch)+'_window_size_'+str(window_size)+'.png')"
   ]
  },
  {
   "cell_type": "code",
   "execution_count": null,
   "metadata": {},
   "outputs": [],
   "source": [
    "# Plot the train losses\n",
    "# Detect erroneous behaviour\n",
    "pyplot.plot(train_losses)\n",
    "pyplot.show()"
   ]
  },
  {
   "cell_type": "code",
   "execution_count": null,
   "metadata": {},
   "outputs": [],
   "source": [
    "# Save the model for heaven's sake\n",
    "PARENT_PATH = 'model_weights'\n",
    "if not os.path.isdir(PARENT_PATH):\n",
    "    os.mkdir(PARENT_PATH)\n",
    "PATH = './model_weights/model_'+str(dim_val) +'_encoder_'+ str(n_encoder_layers)+'_decoder_'+str(n_decoder_layers)+'_epochs_'+str(EPOCHS)+'.pth'\n",
    "torch.save(model.state_dict(), PATH)"
   ]
  },
  {
   "cell_type": "code",
   "execution_count": null,
   "metadata": {},
   "outputs": [],
   "source": []
  }
 ],
 "metadata": {
  "kernelspec": {
   "display_name": "torch-dev",
   "language": "python",
   "name": "python3"
  },
  "language_info": {
   "codemirror_mode": {
    "name": "ipython",
    "version": 3
   },
   "file_extension": ".py",
   "mimetype": "text/x-python",
   "name": "python",
   "nbconvert_exporter": "python",
   "pygments_lexer": "ipython3",
   "version": "3.10.11 (main, Apr 20 2023, 19:02:41) [GCC 11.2.0]"
  },
  "orig_nbformat": 4,
  "vscode": {
   "interpreter": {
    "hash": "056b7cbeb7cbb58f807a70f9c03cbe05839133636727cde7e87a2d921c04cc10"
   }
  }
 },
 "nbformat": 4,
 "nbformat_minor": 2
}
