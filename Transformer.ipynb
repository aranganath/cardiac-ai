{
 "cells": [
  {
   "cell_type": "code",
   "execution_count": 1,
   "metadata": {},
   "outputs": [],
   "source": [
    "from torch.utils.data import DataLoader\n",
    "from utils import *\n",
    "from matplotlib import pyplot\n",
    "import os"
   ]
  },
  {
   "cell_type": "code",
   "execution_count": 2,
   "metadata": {},
   "outputs": [
    {
     "name": "stderr",
     "output_type": "stream",
     "text": [
      "Loading datafiles : 100%|██████████| 16117/16117 [00:55<00:00, 291.68it/s]\n"
     ]
    },
    {
     "name": "stdout",
     "output_type": "stream",
     "text": [
      "Data loading from files - complete\n",
      "Normalization - complete!\n"
     ]
    }
   ],
   "source": [
    "torch.set_default_dtype(torch.float64)\n",
    "# Okay, we kind of have a way of loading the data\n",
    "# We need to collect the data and feed it to the transformer model\n",
    "# Now how do we that ?\n",
    "\n",
    "\n",
    "# Torch Tensor data !\n",
    "path = './Datasets/intracardiac_dataset/'\n",
    "VmTrainData, pECGTrainData, VmDataTest, pECGTestData  = fileReader(path)\n",
    "print('Data loading from files - complete')\n",
    "\n",
    "VmTrainData = (VmTrainData - torch.min(VmTrainData))/(torch.max(VmTrainData) - torch.min(VmTrainData))\n",
    "pECGTrainData = (pECGTrainData - torch.min(pECGTrainData))/(torch.max(pECGTrainData) - torch.min(pECGTrainData))\n",
    "\n",
    "VmDataTest = (VmDataTest - torch.min(VmDataTest))/(torch.max(VmDataTest) - torch.min(VmDataTest))\n",
    "\n",
    "pECGTestData = (pECGTestData - torch.min(pECGTestData))/(torch.max(pECGTestData) - torch.min(pECGTestData))\n",
    "print('Normalization - complete!')\n"
   ]
  },
  {
   "cell_type": "code",
   "execution_count": 3,
   "metadata": {},
   "outputs": [],
   "source": [
    "## Model parameters\n",
    "dim_val = 512\n",
    "n_heads = 2\n",
    "n_decoder_layers = 4\n",
    "n_encoder_layers = 4\n",
    "input_size = 12\n",
    "dec_seq_len = 10 \n",
    "enc_seq_len = 10\n",
    "output_sequence_length = 2\n",
    "max_seq_len = enc_seq_len\n",
    "train_batch_size = 16\n",
    "test_batch_size = 10\n",
    "batch_first= False\n",
    "output_size = 75"
   ]
  },
  {
   "cell_type": "code",
   "execution_count": 4,
   "metadata": {},
   "outputs": [],
   "source": [
    "from dataset import TransformerDataset\n",
    "# Get the indices of the sequences\n",
    "# The idea is: start - stop, where stop - start is window_size\n",
    "# This means, each tuple in VmInd and pECGInd is 50 steps\n",
    "datInd = get_indices_entire_sequence(VmData = VmTrainData, \n",
    "                                            ECGData = pECGTrainData, \n",
    "                                            window_size= enc_seq_len + output_sequence_length, \n",
    "                                            step_size = 1)\n",
    "\n",
    "# Now let's collect the training data in the Transformer Dataset class\n",
    "TrainData = TransformerDataset(VmData = VmTrainData,\n",
    "                                    datInd=datInd,\n",
    "                                    ECGData = pECGTrainData,\n",
    "                                    enc_seq_len = enc_seq_len,\n",
    "                                    dec_seq_len = dec_seq_len,\n",
    "                                    target_seq_len = output_sequence_length\n",
    "                                )\n",
    "\n",
    "\n",
    "TrainData = DataLoader(TrainData, train_batch_size)\n",
    "\n",
    "datInd = get_indices_entire_sequence(VmData = VmDataTest, \n",
    "                                            ECGData = pECGTestData, \n",
    "                                            window_size= enc_seq_len + output_sequence_length, \n",
    "                                            step_size = 1)\n",
    "\n",
    "\n",
    "# Now, let's load the test data\n",
    "TestData = TransformerDataset(VmData = VmDataTest, \n",
    "                                    ECGData = pECGTestData,\n",
    "                                    datInd=datInd,\n",
    "                                    enc_seq_len = enc_seq_len,\n",
    "                                    dec_seq_len = dec_seq_len,\n",
    "                                    target_seq_len = output_sequence_length\n",
    "                                )\n",
    "\n",
    "TestData = DataLoader(TestData, test_batch_size)\n"
   ]
  },
  {
   "cell_type": "code",
   "execution_count": 5,
   "metadata": {},
   "outputs": [],
   "source": [
    "from models import TimeSeriesTransformer\n",
    "model = TimeSeriesTransformer(\n",
    "    dim_val=dim_val,\n",
    "    batch_first=batch_first,\n",
    "    input_size=input_size, \n",
    "    dec_seq_len=dec_seq_len,\n",
    "    out_seq_len=output_sequence_length, \n",
    "    n_decoder_layers=n_decoder_layers,\n",
    "    n_encoder_layers=n_encoder_layers,\n",
    "    n_heads=n_heads,\n",
    "    num_predicted_features=output_size\n",
    ")\n",
    "\n",
    "# Define the MSE loss\n",
    "criterion = torch.nn.MSELoss()\n",
    "\n",
    "# Define the optimizer\n",
    "optimizer = torch.optim.Adam(model.parameters(), lr = 1e-4)\n",
    "\n",
    "\n"
   ]
  },
  {
   "cell_type": "code",
   "execution_count": 6,
   "metadata": {},
   "outputs": [
    {
     "name": "stderr",
     "output_type": "stream",
     "text": [
      "Training :   0%|          | 0/1 [00:00<?, ?epochs/s]"
     ]
    },
    {
     "name": "stdout",
     "output_type": "stream",
     "text": [
      "Epoch: 1    sequence: 488/488    Loss: 0.588380103094737    batch: 1/31\n"
     ]
    },
    {
     "name": "stderr",
     "output_type": "stream",
     "text": []
    },
    {
     "name": "stdout",
     "output_type": "stream",
     "text": [
      "Epoch: 1    sequence: 488/488    Loss: 0.26923707422368176    batch: 2/31\n"
     ]
    },
    {
     "name": "stderr",
     "output_type": "stream",
     "text": []
    },
    {
     "name": "stdout",
     "output_type": "stream",
     "text": [
      "Epoch: 1    sequence: 488/488    Loss: 0.16643682063210213    batch: 3/31\n"
     ]
    },
    {
     "name": "stderr",
     "output_type": "stream",
     "text": [
      "  6%|▋         | 2/31 [19:38<4:44:43, 589.08s/batches]\n",
      "Training :   0%|          | 0/1 [19:38<?, ?epochs/s]\n"
     ]
    },
    {
     "ename": "KeyboardInterrupt",
     "evalue": "",
     "output_type": "error",
     "traceback": [
      "\u001b[0;31m---------------------------------------------------------------------------\u001b[0m",
      "\u001b[0;31mKeyboardInterrupt\u001b[0m                         Traceback (most recent call last)",
      "\u001b[0;32m<ipython-input-6-6490057f50e1>\u001b[0m in \u001b[0;36m<module>\u001b[0;34m\u001b[0m\n\u001b[1;32m     35\u001b[0m         \u001b[0mloss\u001b[0m \u001b[0;34m=\u001b[0m \u001b[0mcriterion\u001b[0m\u001b[0;34m(\u001b[0m\u001b[0mtrg_y\u001b[0m\u001b[0;34m,\u001b[0m \u001b[0mtorch\u001b[0m\u001b[0;34m.\u001b[0m\u001b[0mstack\u001b[0m\u001b[0;34m(\u001b[0m\u001b[0mpredList\u001b[0m\u001b[0;34m,\u001b[0m \u001b[0maxis\u001b[0m \u001b[0;34m=\u001b[0m \u001b[0;36m2\u001b[0m\u001b[0;34m)\u001b[0m\u001b[0;34m)\u001b[0m\u001b[0;34m\u001b[0m\u001b[0;34m\u001b[0m\u001b[0m\n\u001b[1;32m     36\u001b[0m         \u001b[0mprint\u001b[0m\u001b[0;34m(\u001b[0m\u001b[0;34m\"Epoch: {epoch}    sequence: {i}/{seqLen}    Loss: {loss}    batch: {batch}/{total_batches}\"\u001b[0m\u001b[0;34m.\u001b[0m\u001b[0mformat\u001b[0m\u001b[0;34m(\u001b[0m\u001b[0mepoch\u001b[0m\u001b[0;34m=\u001b[0m\u001b[0mepoch\u001b[0m\u001b[0;34m+\u001b[0m\u001b[0;36m1\u001b[0m\u001b[0;34m,\u001b[0m \u001b[0mi\u001b[0m\u001b[0;34m=\u001b[0m\u001b[0mi\u001b[0m\u001b[0;34m+\u001b[0m\u001b[0;36m1\u001b[0m\u001b[0;34m,\u001b[0m \u001b[0mseqLen\u001b[0m\u001b[0;34m=\u001b[0m\u001b[0mseqLen\u001b[0m\u001b[0;34m,\u001b[0m \u001b[0mloss\u001b[0m\u001b[0;34m=\u001b[0m\u001b[0mloss\u001b[0m\u001b[0;34m.\u001b[0m\u001b[0mitem\u001b[0m\u001b[0;34m(\u001b[0m\u001b[0;34m)\u001b[0m\u001b[0;34m,\u001b[0m\u001b[0mbatch\u001b[0m\u001b[0;34m=\u001b[0m\u001b[0mbatch\u001b[0m\u001b[0;34m+\u001b[0m\u001b[0;36m1\u001b[0m\u001b[0;34m,\u001b[0m \u001b[0mtotal_batches\u001b[0m\u001b[0;34m=\u001b[0m\u001b[0mlen\u001b[0m\u001b[0;34m(\u001b[0m\u001b[0mTrainData\u001b[0m\u001b[0;34m)\u001b[0m\u001b[0;34m)\u001b[0m\u001b[0;34m)\u001b[0m\u001b[0;34m\u001b[0m\u001b[0;34m\u001b[0m\u001b[0m\n\u001b[0;32m---> 37\u001b[0;31m         \u001b[0mloss\u001b[0m\u001b[0;34m.\u001b[0m\u001b[0mbackward\u001b[0m\u001b[0;34m(\u001b[0m\u001b[0;34m)\u001b[0m\u001b[0;34m\u001b[0m\u001b[0;34m\u001b[0m\u001b[0m\n\u001b[0m\u001b[1;32m     38\u001b[0m         \u001b[0moptimizer\u001b[0m\u001b[0;34m.\u001b[0m\u001b[0mstep\u001b[0m\u001b[0;34m(\u001b[0m\u001b[0;34m)\u001b[0m\u001b[0;34m\u001b[0m\u001b[0;34m\u001b[0m\u001b[0m\n\u001b[1;32m     39\u001b[0m \u001b[0;34m\u001b[0m\u001b[0m\n",
      "\u001b[0;32m~/miniconda3/envs/torch-dev/lib/python3.9/site-packages/torch/_tensor.py\u001b[0m in \u001b[0;36mbackward\u001b[0;34m(self, gradient, retain_graph, create_graph, inputs)\u001b[0m\n\u001b[1;32m    253\u001b[0m                 \u001b[0mcreate_graph\u001b[0m\u001b[0;34m=\u001b[0m\u001b[0mcreate_graph\u001b[0m\u001b[0;34m,\u001b[0m\u001b[0;34m\u001b[0m\u001b[0;34m\u001b[0m\u001b[0m\n\u001b[1;32m    254\u001b[0m                 inputs=inputs)\n\u001b[0;32m--> 255\u001b[0;31m         \u001b[0mtorch\u001b[0m\u001b[0;34m.\u001b[0m\u001b[0mautograd\u001b[0m\u001b[0;34m.\u001b[0m\u001b[0mbackward\u001b[0m\u001b[0;34m(\u001b[0m\u001b[0mself\u001b[0m\u001b[0;34m,\u001b[0m \u001b[0mgradient\u001b[0m\u001b[0;34m,\u001b[0m \u001b[0mretain_graph\u001b[0m\u001b[0;34m,\u001b[0m \u001b[0mcreate_graph\u001b[0m\u001b[0;34m,\u001b[0m \u001b[0minputs\u001b[0m\u001b[0;34m=\u001b[0m\u001b[0minputs\u001b[0m\u001b[0;34m)\u001b[0m\u001b[0;34m\u001b[0m\u001b[0;34m\u001b[0m\u001b[0m\n\u001b[0m\u001b[1;32m    256\u001b[0m \u001b[0;34m\u001b[0m\u001b[0m\n\u001b[1;32m    257\u001b[0m     \u001b[0;32mdef\u001b[0m \u001b[0mregister_hook\u001b[0m\u001b[0;34m(\u001b[0m\u001b[0mself\u001b[0m\u001b[0;34m,\u001b[0m \u001b[0mhook\u001b[0m\u001b[0;34m)\u001b[0m\u001b[0;34m:\u001b[0m\u001b[0;34m\u001b[0m\u001b[0;34m\u001b[0m\u001b[0m\n",
      "\u001b[0;32m~/miniconda3/envs/torch-dev/lib/python3.9/site-packages/torch/autograd/__init__.py\u001b[0m in \u001b[0;36mbackward\u001b[0;34m(tensors, grad_tensors, retain_graph, create_graph, grad_variables, inputs)\u001b[0m\n\u001b[1;32m    145\u001b[0m         \u001b[0mretain_graph\u001b[0m \u001b[0;34m=\u001b[0m \u001b[0mcreate_graph\u001b[0m\u001b[0;34m\u001b[0m\u001b[0;34m\u001b[0m\u001b[0m\n\u001b[1;32m    146\u001b[0m \u001b[0;34m\u001b[0m\u001b[0m\n\u001b[0;32m--> 147\u001b[0;31m     Variable._execution_engine.run_backward(\n\u001b[0m\u001b[1;32m    148\u001b[0m         \u001b[0mtensors\u001b[0m\u001b[0;34m,\u001b[0m \u001b[0mgrad_tensors_\u001b[0m\u001b[0;34m,\u001b[0m \u001b[0mretain_graph\u001b[0m\u001b[0;34m,\u001b[0m \u001b[0mcreate_graph\u001b[0m\u001b[0;34m,\u001b[0m \u001b[0minputs\u001b[0m\u001b[0;34m,\u001b[0m\u001b[0;34m\u001b[0m\u001b[0;34m\u001b[0m\u001b[0m\n\u001b[1;32m    149\u001b[0m         allow_unreachable=True, accumulate_grad=True)  # allow_unreachable flag\n",
      "\u001b[0;31mKeyboardInterrupt\u001b[0m: "
     ]
    }
   ],
   "source": [
    "EPOCHS = 1\n",
    "for epoch in tqdm(range(EPOCHS), desc = 'Training ', unit='epochs'):\n",
    "    batch = 0\n",
    "    for src, trg, trg_y in tqdm(TrainData, unit = 'batches'):\n",
    "        optimizer.zero_grad()\n",
    "        \n",
    "        # Do it for each step in the sequence and predict the loss\n",
    "        seqLen = src.shape[2]\n",
    "        loss = 0\n",
    "        predList = []\n",
    "        for i in range(seqLen):\n",
    "\n",
    "            srciSeq = src[:, :, i, :]\n",
    "            trgiSeq = trg[:, :, i, :]\n",
    "            trg_yiSeq = trg_y[:, :, i, :]\n",
    "            src_mask = generate_square_subsequent_mask(\n",
    "                dim1=output_sequence_length,\n",
    "                dim2=enc_seq_len\n",
    "            )\n",
    "            tgt_mask = generate_square_subsequent_mask(\n",
    "                dim1=output_sequence_length,\n",
    "                dim2=output_sequence_length\n",
    "            )\n",
    "            srciSeq = srciSeq.permute(1, 0, 2)\n",
    "            trgiSeq = trgiSeq.permute(1, 0, 2)\n",
    "            prediction = model(\n",
    "                src=srciSeq,\n",
    "                tgt=trgiSeq,\n",
    "                src_mask=src_mask,\n",
    "                tgt_mask=tgt_mask\n",
    "            )\n",
    "            \n",
    "            predList.append(prediction.permute(1,0,2))\n",
    "        \n",
    "        loss = criterion(trg_y, torch.stack(predList, axis = 2))\n",
    "        print(\"Epoch: {epoch}    sequence: {i}/{seqLen}    Loss: {loss}    batch: {batch}/{total_batches}\".format(epoch=epoch+1, i=i+1, seqLen=seqLen, loss=loss.item(),batch=batch+1, total_batches=len(TrainData)))\n",
    "        loss.backward()\n",
    "        optimizer.step()\n",
    "\n",
    "        batch+=1\n",
    "\n",
    "    "
   ]
  },
  {
   "cell_type": "code",
   "execution_count": 16,
   "metadata": {},
   "outputs": [
    {
     "name": "stderr",
     "output_type": "stream",
     "text": [
      "  2%|▏         | 1/49 [00:59<47:13, 59.04s/batches]\n"
     ]
    },
    {
     "ename": "RuntimeError",
     "evalue": "torch.cat(): Sizes of tensors must match except in dimension 0. Got 488 and 976 in dimension 1 (The offending index is 1)",
     "output_type": "error",
     "traceback": [
      "\u001b[0;31m---------------------------------------------------------------------------\u001b[0m",
      "\u001b[0;31mRuntimeError\u001b[0m                              Traceback (most recent call last)",
      "\u001b[0;32m<ipython-input-16-b3a4e3d0559d>\u001b[0m in \u001b[0;36m<module>\u001b[0;34m\u001b[0m\n\u001b[1;32m     43\u001b[0m             \u001b[0msequences\u001b[0m \u001b[0;34m=\u001b[0m \u001b[0moutput\u001b[0m\u001b[0;34m\u001b[0m\u001b[0;34m\u001b[0m\u001b[0m\n\u001b[1;32m     44\u001b[0m         \u001b[0;32melse\u001b[0m\u001b[0;34m:\u001b[0m\u001b[0;34m\u001b[0m\u001b[0;34m\u001b[0m\u001b[0m\n\u001b[0;32m---> 45\u001b[0;31m             \u001b[0msequences\u001b[0m \u001b[0;34m=\u001b[0m \u001b[0mtorch\u001b[0m\u001b[0;34m.\u001b[0m\u001b[0mcat\u001b[0m\u001b[0;34m(\u001b[0m\u001b[0;34m[\u001b[0m\u001b[0msequences\u001b[0m\u001b[0;34m,\u001b[0m \u001b[0moutput\u001b[0m\u001b[0;34m]\u001b[0m\u001b[0;34m,\u001b[0m \u001b[0maxis\u001b[0m \u001b[0;34m=\u001b[0m\u001b[0;36m0\u001b[0m\u001b[0;34m)\u001b[0m\u001b[0;34m\u001b[0m\u001b[0;34m\u001b[0m\u001b[0m\n\u001b[0m\u001b[1;32m     46\u001b[0m \u001b[0;34m\u001b[0m\u001b[0m\n",
      "\u001b[0;31mRuntimeError\u001b[0m: torch.cat(): Sizes of tensors must match except in dimension 0. Got 488 and 976 in dimension 1 (The offending index is 1)"
     ]
    }
   ],
   "source": [
    "# EPOCHS = 1\n",
    "sequences = []\n",
    "flag = True\n",
    "sequences = None\n",
    "with torch.no_grad():\n",
    "    for src, trg, trg_y in tqdm(TestData, unit = 'batches'):\n",
    "        optimizer.zero_grad()\n",
    "        \n",
    "        # Do it for each step in the sequence and predict the loss\n",
    "        seqLen = src.shape[2]\n",
    "        loss = 0\n",
    "        predList = []\n",
    "        for i in range(seqLen):\n",
    "\n",
    "            srciSeq = src[:, :, i, :]\n",
    "            trgiSeq = trg[:, :, i, :]\n",
    "            trg_yiSeq = trg_y[:, :, i, :]\n",
    "            src_mask = generate_square_subsequent_mask(\n",
    "                dim1=output_sequence_length,\n",
    "                dim2=enc_seq_len\n",
    "            )\n",
    "            tgt_mask = generate_square_subsequent_mask(\n",
    "                dim1=output_sequence_length,\n",
    "                dim2=output_sequence_length\n",
    "            )\n",
    "            srciSeq = srciSeq.permute(1, 0, 2)\n",
    "            trgiSeq = trgiSeq.permute(1, 0, 2)\n",
    "            prediction = model(\n",
    "                src=srciSeq,\n",
    "                tgt=trgiSeq,\n",
    "                src_mask=src_mask,\n",
    "                tgt_mask=tgt_mask\n",
    "            )\n",
    "            if flag:\n",
    "                output = prediction.permute(1,0,2)[:, -1, :].unsqueeze(1)\n",
    "                flag = False\n",
    "            \n",
    "            else:\n",
    "                output = torch.cat((output, prediction.permute(1,0,2)[:, -1, :].unsqueeze(1)), axis = 1)\n",
    "            \n",
    "         \n",
    "        if sequences is None:\n",
    "            sequences = output\n",
    "        else:\n",
    "            sequences = torch.cat([sequences, output], axis =0)\n",
    "        flag = False\n",
    "    "
   ]
  },
  {
   "cell_type": "code",
   "execution_count": 8,
   "metadata": {},
   "outputs": [
    {
     "name": "stdout",
     "output_type": "stream",
     "text": [
      "torch.Size([16, 2, 75])\n"
     ]
    }
   ],
   "source": [
    "print(prediction.permute(1, 0, 2).shape)"
   ]
  },
  {
   "cell_type": "code",
   "execution_count": null,
   "metadata": {},
   "outputs": [],
   "source": []
  }
 ],
 "metadata": {
  "kernelspec": {
   "display_name": "torch-dev",
   "language": "python",
   "name": "python3"
  },
  "language_info": {
   "codemirror_mode": {
    "name": "ipython",
    "version": 3
   },
   "file_extension": ".py",
   "mimetype": "text/x-python",
   "name": "python",
   "nbconvert_exporter": "python",
   "pygments_lexer": "ipython3",
   "version": "3.9.4"
  },
  "orig_nbformat": 4,
  "vscode": {
   "interpreter": {
    "hash": "ebd1eab80af370476757597d2e992799200f376baee415e50ba209d5814c1b4e"
   }
  }
 },
 "nbformat": 4,
 "nbformat_minor": 2
}
