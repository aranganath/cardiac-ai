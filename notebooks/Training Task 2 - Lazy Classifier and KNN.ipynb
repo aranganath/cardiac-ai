{
 "cells": [
  {
   "cell_type": "markdown",
   "metadata": {},
   "source": [
    "## Training for Task 2"
   ]
  },
  {
   "cell_type": "code",
   "execution_count": 1,
   "metadata": {},
   "outputs": [],
   "source": [
    "# Load dependencies!\n",
    "import pandas as pd\n",
    "import numpy as np\n",
    "import matplotlib.pyplot as plt\n",
    "import torch\n",
    "from torch import nn\n",
    "from torch import optim\n",
    "from torch.nn import functional as F"
   ]
  },
  {
   "cell_type": "code",
   "execution_count": 67,
   "metadata": {},
   "outputs": [],
   "source": [
    "from sklearn.neighbors import KNeighborsClassifier \n",
    "from sklearn.metrics import classification_report, accuracy_score\n",
    "from sklearn.pipeline import Pipeline\n",
    "from sklearn.model_selection import GridSearchCV, KFold"
   ]
  },
  {
   "cell_type": "code",
   "execution_count": 63,
   "metadata": {},
   "outputs": [],
   "source": [
    "df_mitbih_train = pd.read_csv(\"../Datasets/ecg_dataset/mitbih_train.csv\", header = None)\n",
    "df_mitbih_test = pd.read_csv(\"../Datasets/ecg_dataset/mitbih_test.csv\", header = None)"
   ]
  },
  {
   "cell_type": "code",
   "execution_count": 65,
   "metadata": {},
   "outputs": [
    {
     "data": {
      "text/plain": [
       "((21892, 188), (87554, 188))"
      ]
     },
     "execution_count": 65,
     "metadata": {},
     "output_type": "execute_result"
    }
   ],
   "source": [
    "df_mitbih_test.shape, df_mitbih_train.shape"
   ]
  },
  {
   "cell_type": "code",
   "execution_count": 24,
   "metadata": {},
   "outputs": [
    {
     "data": {
      "text/plain": [
       "array([0., 1., 2., 3., 4.])"
      ]
     },
     "execution_count": 24,
     "metadata": {},
     "output_type": "execute_result"
    }
   ],
   "source": [
    "df_mitbih_test[187].unique()"
   ]
  },
  {
   "cell_type": "code",
   "execution_count": 26,
   "metadata": {},
   "outputs": [],
   "source": [
    "X_train = df_mitbih_train.drop(columns=[187])"
   ]
  },
  {
   "cell_type": "code",
   "execution_count": null,
   "metadata": {},
   "outputs": [],
   "source": []
  },
  {
   "cell_type": "code",
   "execution_count": 52,
   "metadata": {},
   "outputs": [],
   "source": [
    "X_train = df_mitbih_train.drop(columns=[187])\n",
    "y_train = df_mitbih_train[187]\n",
    "X_test = df_mitbih_test.drop(columns=[187])\n",
    "y_test = df_mitbih_test[187]\n"
   ]
  },
  {
   "cell_type": "code",
   "execution_count": 61,
   "metadata": {},
   "outputs": [
    {
     "data": {
      "text/plain": [
       "(87554,)"
      ]
     },
     "execution_count": 61,
     "metadata": {},
     "output_type": "execute_result"
    }
   ],
   "source": [
    "y_train.shape"
   ]
  },
  {
   "cell_type": "code",
   "execution_count": 55,
   "metadata": {},
   "outputs": [
    {
     "data": {
      "text/plain": [
       "((21892, 187), (87554, 187), (21892,), (21892,))"
      ]
     },
     "execution_count": 55,
     "metadata": {},
     "output_type": "execute_result"
    }
   ],
   "source": [
    "X_test.shape, X_train.shape, y_test.shape, y_test.shape"
   ]
  },
  {
   "cell_type": "code",
   "execution_count": 56,
   "metadata": {},
   "outputs": [],
   "source": [
    "myknn = KNeighborsClassifier()\n",
    "myknn.fit(X_train,y_train)\n",
    "y_pred = myknn.predict(X_test)\n",
    "\n",
    "acc = accuracy_score(y_test, y_pred)\n",
    "\n",
    "class_report = classification_report(y_test,y_pred)\n",
    "\n"
   ]
  },
  {
   "cell_type": "code",
   "execution_count": 57,
   "metadata": {},
   "outputs": [
    {
     "name": "stdout",
     "output_type": "stream",
     "text": [
      "              precision    recall  f1-score   support\n",
      "\n",
      "         0.0       0.98      0.99      0.99     18118\n",
      "         1.0       0.90      0.64      0.75       556\n",
      "         2.0       0.94      0.90      0.92      1448\n",
      "         3.0       0.76      0.64      0.69       162\n",
      "         4.0       0.99      0.95      0.97      1608\n",
      "\n",
      "    accuracy                           0.97     21892\n",
      "   macro avg       0.91      0.82      0.86     21892\n",
      "weighted avg       0.97      0.97      0.97     21892\n",
      "\n"
     ]
    }
   ],
   "source": [
    "print(class_report)"
   ]
  },
  {
   "cell_type": "code",
   "execution_count": 58,
   "metadata": {},
   "outputs": [
    {
     "data": {
      "text/plain": [
       "0.9736433400328888"
      ]
     },
     "execution_count": 58,
     "metadata": {},
     "output_type": "execute_result"
    }
   ],
   "source": [
    "acc"
   ]
  },
  {
   "cell_type": "code",
   "execution_count": 68,
   "metadata": {},
   "outputs": [
    {
     "name": "stdout",
     "output_type": "stream",
     "text": [
      "Fitting 3 folds for each of 10 candidates, totalling 30 fits\n",
      "[CV 1/3] END model__n_neighbors=3, model__weights=uniform;, score=0.974 total time=   5.2s\n",
      "[CV 2/3] END model__n_neighbors=3, model__weights=uniform;, score=0.975 total time=   5.1s\n",
      "[CV 3/3] END model__n_neighbors=3, model__weights=uniform;, score=0.974 total time=   5.1s\n",
      "[CV 1/3] END model__n_neighbors=3, model__weights=distance;, score=0.974 total time=   4.7s\n",
      "[CV 2/3] END model__n_neighbors=3, model__weights=distance;, score=0.975 total time=   4.8s\n",
      "[CV 3/3] END model__n_neighbors=3, model__weights=distance;, score=0.975 total time=   4.8s\n",
      "[CV 1/3] END model__n_neighbors=5, model__weights=uniform;, score=0.972 total time=   5.2s\n",
      "[CV 2/3] END model__n_neighbors=5, model__weights=uniform;, score=0.973 total time=   5.0s\n",
      "[CV 3/3] END model__n_neighbors=5, model__weights=uniform;, score=0.972 total time=   5.3s\n",
      "[CV 1/3] END model__n_neighbors=5, model__weights=distance;, score=0.973 total time=   4.7s\n",
      "[CV 2/3] END model__n_neighbors=5, model__weights=distance;, score=0.974 total time=   4.8s\n",
      "[CV 3/3] END model__n_neighbors=5, model__weights=distance;, score=0.973 total time=   4.8s\n",
      "[CV 1/3] END model__n_neighbors=7, model__weights=uniform;, score=0.970 total time=   5.2s\n",
      "[CV 2/3] END model__n_neighbors=7, model__weights=uniform;, score=0.971 total time=   5.2s\n",
      "[CV 3/3] END model__n_neighbors=7, model__weights=uniform;, score=0.970 total time=   5.2s\n",
      "[CV 1/3] END model__n_neighbors=7, model__weights=distance;, score=0.971 total time=   4.7s\n",
      "[CV 2/3] END model__n_neighbors=7, model__weights=distance;, score=0.972 total time=   5.6s\n",
      "[CV 3/3] END model__n_neighbors=7, model__weights=distance;, score=0.971 total time=   5.1s\n",
      "[CV 1/3] END model__n_neighbors=10, model__weights=uniform;, score=0.968 total time=   5.3s\n",
      "[CV 2/3] END model__n_neighbors=10, model__weights=uniform;, score=0.969 total time=   6.1s\n",
      "[CV 3/3] END model__n_neighbors=10, model__weights=uniform;, score=0.969 total time=   6.0s\n",
      "[CV 1/3] END model__n_neighbors=10, model__weights=distance;, score=0.970 total time=   5.5s\n",
      "[CV 2/3] END model__n_neighbors=10, model__weights=distance;, score=0.971 total time=   5.7s\n",
      "[CV 3/3] END model__n_neighbors=10, model__weights=distance;, score=0.971 total time=   5.0s\n",
      "[CV 1/3] END model__n_neighbors=15, model__weights=uniform;, score=0.966 total time=   5.4s\n",
      "[CV 2/3] END model__n_neighbors=15, model__weights=uniform;, score=0.967 total time=   5.4s\n",
      "[CV 3/3] END model__n_neighbors=15, model__weights=uniform;, score=0.966 total time=   5.7s\n",
      "[CV 1/3] END model__n_neighbors=15, model__weights=distance;, score=0.968 total time=   4.9s\n",
      "[CV 2/3] END model__n_neighbors=15, model__weights=distance;, score=0.969 total time=   4.7s\n",
      "[CV 3/3] END model__n_neighbors=15, model__weights=distance;, score=0.968 total time=   4.8s\n",
      "Accuracy:  0.9769778914672026\n"
     ]
    }
   ],
   "source": [
    "pipeline = Pipeline([\n",
    "    ('scaling', None),\n",
    "    ('model', KNeighborsClassifier())\n",
    "])\n",
    "\n",
    "# parameter grid\n",
    "param_grid = {\n",
    "    'model__n_neighbors': [3, 5, 7,10,15],\n",
    "    'model__weights': ['uniform', 'distance']\n",
    "}\n",
    "\n",
    "#cross-validation \n",
    "cv = KFold(n_splits=3, shuffle=True, random_state=42)\n",
    "\n",
    "# GridSearch object\n",
    "grid_search = GridSearchCV(pipeline, param_grid, cv=cv, verbose=3)\n",
    "\n",
    "# Fit the GridSearch object \n",
    "grid_search.fit(X_train, y_train)\n",
    "\n",
    "# Evaluate the best model\n",
    "best_model_knn = grid_search.best_estimator_\n",
    "y_pred_knn = best_model_knn.predict(X_test)\n",
    "optimized_score_knn = best_model_knn.score(X_test, y_test)\n",
    "print('Accuracy: ', optimized_score_knn)\n",
    "optimized_knn_class_report = classification_report(y_test,y_pred_knn,output_dict=True)"
   ]
  },
  {
   "cell_type": "code",
   "execution_count": 69,
   "metadata": {},
   "outputs": [
    {
     "data": {
      "text/html": [
       "<style>#sk-container-id-2 {color: black;background-color: white;}#sk-container-id-2 pre{padding: 0;}#sk-container-id-2 div.sk-toggleable {background-color: white;}#sk-container-id-2 label.sk-toggleable__label {cursor: pointer;display: block;width: 100%;margin-bottom: 0;padding: 0.3em;box-sizing: border-box;text-align: center;}#sk-container-id-2 label.sk-toggleable__label-arrow:before {content: \"▸\";float: left;margin-right: 0.25em;color: #696969;}#sk-container-id-2 label.sk-toggleable__label-arrow:hover:before {color: black;}#sk-container-id-2 div.sk-estimator:hover label.sk-toggleable__label-arrow:before {color: black;}#sk-container-id-2 div.sk-toggleable__content {max-height: 0;max-width: 0;overflow: hidden;text-align: left;background-color: #f0f8ff;}#sk-container-id-2 div.sk-toggleable__content pre {margin: 0.2em;color: black;border-radius: 0.25em;background-color: #f0f8ff;}#sk-container-id-2 input.sk-toggleable__control:checked~div.sk-toggleable__content {max-height: 200px;max-width: 100%;overflow: auto;}#sk-container-id-2 input.sk-toggleable__control:checked~label.sk-toggleable__label-arrow:before {content: \"▾\";}#sk-container-id-2 div.sk-estimator input.sk-toggleable__control:checked~label.sk-toggleable__label {background-color: #d4ebff;}#sk-container-id-2 div.sk-label input.sk-toggleable__control:checked~label.sk-toggleable__label {background-color: #d4ebff;}#sk-container-id-2 input.sk-hidden--visually {border: 0;clip: rect(1px 1px 1px 1px);clip: rect(1px, 1px, 1px, 1px);height: 1px;margin: -1px;overflow: hidden;padding: 0;position: absolute;width: 1px;}#sk-container-id-2 div.sk-estimator {font-family: monospace;background-color: #f0f8ff;border: 1px dotted black;border-radius: 0.25em;box-sizing: border-box;margin-bottom: 0.5em;}#sk-container-id-2 div.sk-estimator:hover {background-color: #d4ebff;}#sk-container-id-2 div.sk-parallel-item::after {content: \"\";width: 100%;border-bottom: 1px solid gray;flex-grow: 1;}#sk-container-id-2 div.sk-label:hover label.sk-toggleable__label {background-color: #d4ebff;}#sk-container-id-2 div.sk-serial::before {content: \"\";position: absolute;border-left: 1px solid gray;box-sizing: border-box;top: 0;bottom: 0;left: 50%;z-index: 0;}#sk-container-id-2 div.sk-serial {display: flex;flex-direction: column;align-items: center;background-color: white;padding-right: 0.2em;padding-left: 0.2em;position: relative;}#sk-container-id-2 div.sk-item {position: relative;z-index: 1;}#sk-container-id-2 div.sk-parallel {display: flex;align-items: stretch;justify-content: center;background-color: white;position: relative;}#sk-container-id-2 div.sk-item::before, #sk-container-id-2 div.sk-parallel-item::before {content: \"\";position: absolute;border-left: 1px solid gray;box-sizing: border-box;top: 0;bottom: 0;left: 50%;z-index: -1;}#sk-container-id-2 div.sk-parallel-item {display: flex;flex-direction: column;z-index: 1;position: relative;background-color: white;}#sk-container-id-2 div.sk-parallel-item:first-child::after {align-self: flex-end;width: 50%;}#sk-container-id-2 div.sk-parallel-item:last-child::after {align-self: flex-start;width: 50%;}#sk-container-id-2 div.sk-parallel-item:only-child::after {width: 0;}#sk-container-id-2 div.sk-dashed-wrapped {border: 1px dashed gray;margin: 0 0.4em 0.5em 0.4em;box-sizing: border-box;padding-bottom: 0.4em;background-color: white;}#sk-container-id-2 div.sk-label label {font-family: monospace;font-weight: bold;display: inline-block;line-height: 1.2em;}#sk-container-id-2 div.sk-label-container {text-align: center;}#sk-container-id-2 div.sk-container {/* jupyter's `normalize.less` sets `[hidden] { display: none; }` but bootstrap.min.css set `[hidden] { display: none !important; }` so we also need the `!important` here to be able to override the default hidden behavior on the sphinx rendered scikit-learn.org. See: https://github.com/scikit-learn/scikit-learn/issues/21755 */display: inline-block !important;position: relative;}#sk-container-id-2 div.sk-text-repr-fallback {display: none;}</style><div id=\"sk-container-id-2\" class=\"sk-top-container\"><div class=\"sk-text-repr-fallback\"><pre>Pipeline(steps=[(&#x27;scaling&#x27;, None),\n",
       "                (&#x27;model&#x27;,\n",
       "                 KNeighborsClassifier(n_neighbors=3, weights=&#x27;distance&#x27;))])</pre><b>In a Jupyter environment, please rerun this cell to show the HTML representation or trust the notebook. <br />On GitHub, the HTML representation is unable to render, please try loading this page with nbviewer.org.</b></div><div class=\"sk-container\" hidden><div class=\"sk-item sk-dashed-wrapped\"><div class=\"sk-label-container\"><div class=\"sk-label sk-toggleable\"><input class=\"sk-toggleable__control sk-hidden--visually\" id=\"sk-estimator-id-2\" type=\"checkbox\" ><label for=\"sk-estimator-id-2\" class=\"sk-toggleable__label sk-toggleable__label-arrow\">Pipeline</label><div class=\"sk-toggleable__content\"><pre>Pipeline(steps=[(&#x27;scaling&#x27;, None),\n",
       "                (&#x27;model&#x27;,\n",
       "                 KNeighborsClassifier(n_neighbors=3, weights=&#x27;distance&#x27;))])</pre></div></div></div><div class=\"sk-serial\"><div class=\"sk-item\"><div class=\"sk-estimator sk-toggleable\"><input class=\"sk-toggleable__control sk-hidden--visually\" id=\"sk-estimator-id-3\" type=\"checkbox\" ><label for=\"sk-estimator-id-3\" class=\"sk-toggleable__label sk-toggleable__label-arrow\">None</label><div class=\"sk-toggleable__content\"><pre>None</pre></div></div></div><div class=\"sk-item\"><div class=\"sk-estimator sk-toggleable\"><input class=\"sk-toggleable__control sk-hidden--visually\" id=\"sk-estimator-id-4\" type=\"checkbox\" ><label for=\"sk-estimator-id-4\" class=\"sk-toggleable__label sk-toggleable__label-arrow\">KNeighborsClassifier</label><div class=\"sk-toggleable__content\"><pre>KNeighborsClassifier(n_neighbors=3, weights=&#x27;distance&#x27;)</pre></div></div></div></div></div></div></div>"
      ],
      "text/plain": [
       "Pipeline(steps=[('scaling', None),\n",
       "                ('model',\n",
       "                 KNeighborsClassifier(n_neighbors=3, weights='distance'))])"
      ]
     },
     "execution_count": 69,
     "metadata": {},
     "output_type": "execute_result"
    }
   ],
   "source": [
    "best_model_knn"
   ]
  },
  {
   "cell_type": "code",
   "execution_count": 70,
   "metadata": {},
   "outputs": [
    {
     "name": "stdout",
     "output_type": "stream",
     "text": [
      "Collecting lazypredict\n",
      "  Downloading lazypredict-0.2.12-py2.py3-none-any.whl (12 kB)\n",
      "Requirement already satisfied: tqdm in c:\\users\\oconn\\anaconda3\\lib\\site-packages (from lazypredict) (4.65.0)\n",
      "Collecting lightgbm\n",
      "  Downloading lightgbm-3.3.5-py3-none-win_amd64.whl (1.0 MB)\n",
      "     ---------------------------------------- 1.0/1.0 MB 13.0 MB/s eta 0:00:00\n",
      "Requirement already satisfied: joblib in c:\\users\\oconn\\anaconda3\\lib\\site-packages (from lazypredict) (1.2.0)\n",
      "Requirement already satisfied: pandas in c:\\users\\oconn\\anaconda3\\lib\\site-packages (from lazypredict) (1.5.3)\n",
      "Requirement already satisfied: click in c:\\users\\oconn\\anaconda3\\lib\\site-packages (from lazypredict) (8.0.4)\n",
      "Collecting xgboost\n",
      "  Downloading xgboost-1.7.6-py3-none-win_amd64.whl (70.9 MB)\n",
      "     --------------------------------------- 70.9/70.9 MB 22.6 MB/s eta 0:00:00\n",
      "Requirement already satisfied: scikit-learn in c:\\users\\oconn\\anaconda3\\lib\\site-packages (from lazypredict) (1.2.2)\n",
      "Requirement already satisfied: colorama in c:\\users\\oconn\\anaconda3\\lib\\site-packages (from click->lazypredict) (0.4.6)\n",
      "Requirement already satisfied: scipy in c:\\users\\oconn\\anaconda3\\lib\\site-packages (from lightgbm->lazypredict) (1.10.1)\n",
      "Requirement already satisfied: wheel in c:\\users\\oconn\\anaconda3\\lib\\site-packages (from lightgbm->lazypredict) (0.38.4)\n",
      "Requirement already satisfied: numpy in c:\\users\\oconn\\anaconda3\\lib\\site-packages (from lightgbm->lazypredict) (1.25.0)\n",
      "Requirement already satisfied: threadpoolctl>=2.0.0 in c:\\users\\oconn\\anaconda3\\lib\\site-packages (from scikit-learn->lazypredict) (2.2.0)\n",
      "Requirement already satisfied: python-dateutil>=2.8.1 in c:\\users\\oconn\\anaconda3\\lib\\site-packages (from pandas->lazypredict) (2.8.2)\n",
      "Requirement already satisfied: pytz>=2020.1 in c:\\users\\oconn\\anaconda3\\lib\\site-packages (from pandas->lazypredict) (2022.7)\n",
      "Requirement already satisfied: six>=1.5 in c:\\users\\oconn\\anaconda3\\lib\\site-packages (from python-dateutil>=2.8.1->pandas->lazypredict) (1.16.0)\n",
      "Installing collected packages: xgboost, lightgbm, lazypredict\n",
      "Successfully installed lazypredict-0.2.12 lightgbm-3.3.5 xgboost-1.7.6\n"
     ]
    }
   ],
   "source": [
    "!pip install lazypredict"
   ]
  },
  {
   "cell_type": "code",
   "execution_count": 71,
   "metadata": {},
   "outputs": [],
   "source": [
    "from lazypredict.Supervised import LazyClassifier"
   ]
  },
  {
   "cell_type": "code",
   "execution_count": 72,
   "metadata": {},
   "outputs": [
    {
     "name": "stderr",
     "output_type": "stream",
     "text": [
      " 10%|████████▌                                                                          | 3/29 [05:15<41:08, 94.94s/it]C:\\Users\\oconn\\anaconda3\\lib\\site-packages\\sklearn\\svm\\_base.py:1244: ConvergenceWarning: Liblinear failed to converge, increase the number of iterations.\n",
      "  warnings.warn(\n",
      "C:\\Users\\oconn\\anaconda3\\lib\\site-packages\\sklearn\\svm\\_base.py:1244: ConvergenceWarning: Liblinear failed to converge, increase the number of iterations.\n",
      "  warnings.warn(\n",
      "C:\\Users\\oconn\\anaconda3\\lib\\site-packages\\sklearn\\svm\\_base.py:1244: ConvergenceWarning: Liblinear failed to converge, increase the number of iterations.\n",
      "  warnings.warn(\n",
      "C:\\Users\\oconn\\anaconda3\\lib\\site-packages\\sklearn\\svm\\_base.py:1244: ConvergenceWarning: Liblinear failed to converge, increase the number of iterations.\n",
      "  warnings.warn(\n",
      "C:\\Users\\oconn\\anaconda3\\lib\\site-packages\\sklearn\\svm\\_base.py:1244: ConvergenceWarning: Liblinear failed to converge, increase the number of iterations.\n",
      "  warnings.warn(\n",
      " 48%|███████████████████████████████████████▌                                          | 14/29 [19:09<02:48, 11.25s/it]C:\\Users\\oconn\\anaconda3\\lib\\site-packages\\sklearn\\svm\\_base.py:1244: ConvergenceWarning: Liblinear failed to converge, increase the number of iterations.\n",
      "  warnings.warn(\n",
      " 52%|██████████████████████████████████████████▍                                       | 15/29 [22:33<16:09, 69.28s/it]C:\\Users\\oconn\\anaconda3\\lib\\site-packages\\sklearn\\linear_model\\_logistic.py:458: ConvergenceWarning: lbfgs failed to converge (status=1):\n",
      "STOP: TOTAL NO. of ITERATIONS REACHED LIMIT.\n",
      "\n",
      "Increase the number of iterations (max_iter) or scale the data as shown in:\n",
      "    https://scikit-learn.org/stable/modules/preprocessing.html\n",
      "Please also refer to the documentation for alternative solver options:\n",
      "    https://scikit-learn.org/stable/modules/linear_model.html#logistic-regression\n",
      "  n_iter_i = _check_optimize_result(\n",
      " 69%|████████████████████████████████████████████████████████▌                         | 20/29 [22:42<01:57, 13.10s/it]C:\\Users\\oconn\\anaconda3\\lib\\site-packages\\sklearn\\discriminant_analysis.py:926: UserWarning: Variables are collinear\n",
      "  warnings.warn(\"Variables are collinear\")\n",
      "100%|██████████████████████████████████████████████████████████████████████████████████| 29/29 [30:09<00:00, 62.39s/it]\n"
     ]
    }
   ],
   "source": [
    "clf = LazyClassifier(predictions=True)\n",
    "models, predictions = clf.fit(X_train,X_test,y_train,y_test)"
   ]
  },
  {
   "cell_type": "code",
   "execution_count": 73,
   "metadata": {},
   "outputs": [
    {
     "data": {
      "text/html": [
       "<div>\n",
       "<style scoped>\n",
       "    .dataframe tbody tr th:only-of-type {\n",
       "        vertical-align: middle;\n",
       "    }\n",
       "\n",
       "    .dataframe tbody tr th {\n",
       "        vertical-align: top;\n",
       "    }\n",
       "\n",
       "    .dataframe thead th {\n",
       "        text-align: right;\n",
       "    }\n",
       "</style>\n",
       "<table border=\"1\" class=\"dataframe\">\n",
       "  <thead>\n",
       "    <tr style=\"text-align: right;\">\n",
       "      <th></th>\n",
       "      <th>Accuracy</th>\n",
       "      <th>Balanced Accuracy</th>\n",
       "      <th>ROC AUC</th>\n",
       "      <th>F1 Score</th>\n",
       "      <th>Time Taken</th>\n",
       "    </tr>\n",
       "    <tr>\n",
       "      <th>Model</th>\n",
       "      <th></th>\n",
       "      <th></th>\n",
       "      <th></th>\n",
       "      <th></th>\n",
       "      <th></th>\n",
       "    </tr>\n",
       "  </thead>\n",
       "  <tbody>\n",
       "    <tr>\n",
       "      <th>XGBClassifier</th>\n",
       "      <td>0.98</td>\n",
       "      <td>0.86</td>\n",
       "      <td>None</td>\n",
       "      <td>0.98</td>\n",
       "      <td>92.55</td>\n",
       "    </tr>\n",
       "    <tr>\n",
       "      <th>LGBMClassifier</th>\n",
       "      <td>0.98</td>\n",
       "      <td>0.85</td>\n",
       "      <td>None</td>\n",
       "      <td>0.98</td>\n",
       "      <td>7.08</td>\n",
       "    </tr>\n",
       "    <tr>\n",
       "      <th>KNeighborsClassifier</th>\n",
       "      <td>0.97</td>\n",
       "      <td>0.82</td>\n",
       "      <td>None</td>\n",
       "      <td>0.97</td>\n",
       "      <td>6.09</td>\n",
       "    </tr>\n",
       "    <tr>\n",
       "      <th>ExtraTreesClassifier</th>\n",
       "      <td>0.98</td>\n",
       "      <td>0.82</td>\n",
       "      <td>None</td>\n",
       "      <td>0.97</td>\n",
       "      <td>26.70</td>\n",
       "    </tr>\n",
       "    <tr>\n",
       "      <th>RandomForestClassifier</th>\n",
       "      <td>0.97</td>\n",
       "      <td>0.81</td>\n",
       "      <td>None</td>\n",
       "      <td>0.97</td>\n",
       "      <td>127.45</td>\n",
       "    </tr>\n",
       "    <tr>\n",
       "      <th>DecisionTreeClassifier</th>\n",
       "      <td>0.95</td>\n",
       "      <td>0.80</td>\n",
       "      <td>None</td>\n",
       "      <td>0.95</td>\n",
       "      <td>44.31</td>\n",
       "    </tr>\n",
       "    <tr>\n",
       "      <th>BaggingClassifier</th>\n",
       "      <td>0.97</td>\n",
       "      <td>0.80</td>\n",
       "      <td>None</td>\n",
       "      <td>0.97</td>\n",
       "      <td>252.55</td>\n",
       "    </tr>\n",
       "    <tr>\n",
       "      <th>ExtraTreeClassifier</th>\n",
       "      <td>0.95</td>\n",
       "      <td>0.79</td>\n",
       "      <td>None</td>\n",
       "      <td>0.95</td>\n",
       "      <td>0.85</td>\n",
       "    </tr>\n",
       "    <tr>\n",
       "      <th>SVC</th>\n",
       "      <td>0.97</td>\n",
       "      <td>0.77</td>\n",
       "      <td>None</td>\n",
       "      <td>0.97</td>\n",
       "      <td>203.98</td>\n",
       "    </tr>\n",
       "    <tr>\n",
       "      <th>LinearDiscriminantAnalysis</th>\n",
       "      <td>0.89</td>\n",
       "      <td>0.66</td>\n",
       "      <td>None</td>\n",
       "      <td>0.90</td>\n",
       "      <td>1.73</td>\n",
       "    </tr>\n",
       "    <tr>\n",
       "      <th>LogisticRegression</th>\n",
       "      <td>0.91</td>\n",
       "      <td>0.58</td>\n",
       "      <td>None</td>\n",
       "      <td>0.90</td>\n",
       "      <td>4.03</td>\n",
       "    </tr>\n",
       "    <tr>\n",
       "      <th>SGDClassifier</th>\n",
       "      <td>0.90</td>\n",
       "      <td>0.55</td>\n",
       "      <td>None</td>\n",
       "      <td>0.89</td>\n",
       "      <td>11.23</td>\n",
       "    </tr>\n",
       "    <tr>\n",
       "      <th>NearestCentroid</th>\n",
       "      <td>0.54</td>\n",
       "      <td>0.55</td>\n",
       "      <td>None</td>\n",
       "      <td>0.62</td>\n",
       "      <td>0.60</td>\n",
       "    </tr>\n",
       "    <tr>\n",
       "      <th>BernoulliNB</th>\n",
       "      <td>0.32</td>\n",
       "      <td>0.54</td>\n",
       "      <td>None</td>\n",
       "      <td>0.40</td>\n",
       "      <td>0.85</td>\n",
       "    </tr>\n",
       "    <tr>\n",
       "      <th>CalibratedClassifierCV</th>\n",
       "      <td>0.90</td>\n",
       "      <td>0.50</td>\n",
       "      <td>None</td>\n",
       "      <td>0.89</td>\n",
       "      <td>751.75</td>\n",
       "    </tr>\n",
       "    <tr>\n",
       "      <th>QuadraticDiscriminantAnalysis</th>\n",
       "      <td>0.22</td>\n",
       "      <td>0.50</td>\n",
       "      <td>None</td>\n",
       "      <td>0.26</td>\n",
       "      <td>1.55</td>\n",
       "    </tr>\n",
       "    <tr>\n",
       "      <th>Perceptron</th>\n",
       "      <td>0.89</td>\n",
       "      <td>0.49</td>\n",
       "      <td>None</td>\n",
       "      <td>0.88</td>\n",
       "      <td>1.99</td>\n",
       "    </tr>\n",
       "    <tr>\n",
       "      <th>LinearSVC</th>\n",
       "      <td>0.90</td>\n",
       "      <td>0.47</td>\n",
       "      <td>None</td>\n",
       "      <td>0.88</td>\n",
       "      <td>203.76</td>\n",
       "    </tr>\n",
       "    <tr>\n",
       "      <th>PassiveAggressiveClassifier</th>\n",
       "      <td>0.89</td>\n",
       "      <td>0.47</td>\n",
       "      <td>None</td>\n",
       "      <td>0.87</td>\n",
       "      <td>2.21</td>\n",
       "    </tr>\n",
       "    <tr>\n",
       "      <th>GaussianNB</th>\n",
       "      <td>0.19</td>\n",
       "      <td>0.44</td>\n",
       "      <td>None</td>\n",
       "      <td>0.20</td>\n",
       "      <td>0.92</td>\n",
       "    </tr>\n",
       "    <tr>\n",
       "      <th>RidgeClassifier</th>\n",
       "      <td>0.90</td>\n",
       "      <td>0.42</td>\n",
       "      <td>None</td>\n",
       "      <td>0.87</td>\n",
       "      <td>0.88</td>\n",
       "    </tr>\n",
       "    <tr>\n",
       "      <th>AdaBoostClassifier</th>\n",
       "      <td>0.87</td>\n",
       "      <td>0.42</td>\n",
       "      <td>None</td>\n",
       "      <td>0.85</td>\n",
       "      <td>61.80</td>\n",
       "    </tr>\n",
       "    <tr>\n",
       "      <th>RidgeClassifierCV</th>\n",
       "      <td>0.90</td>\n",
       "      <td>0.42</td>\n",
       "      <td>None</td>\n",
       "      <td>0.87</td>\n",
       "      <td>1.64</td>\n",
       "    </tr>\n",
       "    <tr>\n",
       "      <th>DummyClassifier</th>\n",
       "      <td>0.83</td>\n",
       "      <td>0.20</td>\n",
       "      <td>None</td>\n",
       "      <td>0.75</td>\n",
       "      <td>0.56</td>\n",
       "    </tr>\n",
       "  </tbody>\n",
       "</table>\n",
       "</div>"
      ],
      "text/plain": [
       "                               Accuracy  Balanced Accuracy ROC AUC  F1 Score  \\\n",
       "Model                                                                          \n",
       "XGBClassifier                      0.98               0.86    None      0.98   \n",
       "LGBMClassifier                     0.98               0.85    None      0.98   \n",
       "KNeighborsClassifier               0.97               0.82    None      0.97   \n",
       "ExtraTreesClassifier               0.98               0.82    None      0.97   \n",
       "RandomForestClassifier             0.97               0.81    None      0.97   \n",
       "DecisionTreeClassifier             0.95               0.80    None      0.95   \n",
       "BaggingClassifier                  0.97               0.80    None      0.97   \n",
       "ExtraTreeClassifier                0.95               0.79    None      0.95   \n",
       "SVC                                0.97               0.77    None      0.97   \n",
       "LinearDiscriminantAnalysis         0.89               0.66    None      0.90   \n",
       "LogisticRegression                 0.91               0.58    None      0.90   \n",
       "SGDClassifier                      0.90               0.55    None      0.89   \n",
       "NearestCentroid                    0.54               0.55    None      0.62   \n",
       "BernoulliNB                        0.32               0.54    None      0.40   \n",
       "CalibratedClassifierCV             0.90               0.50    None      0.89   \n",
       "QuadraticDiscriminantAnalysis      0.22               0.50    None      0.26   \n",
       "Perceptron                         0.89               0.49    None      0.88   \n",
       "LinearSVC                          0.90               0.47    None      0.88   \n",
       "PassiveAggressiveClassifier        0.89               0.47    None      0.87   \n",
       "GaussianNB                         0.19               0.44    None      0.20   \n",
       "RidgeClassifier                    0.90               0.42    None      0.87   \n",
       "AdaBoostClassifier                 0.87               0.42    None      0.85   \n",
       "RidgeClassifierCV                  0.90               0.42    None      0.87   \n",
       "DummyClassifier                    0.83               0.20    None      0.75   \n",
       "\n",
       "                               Time Taken  \n",
       "Model                                      \n",
       "XGBClassifier                       92.55  \n",
       "LGBMClassifier                       7.08  \n",
       "KNeighborsClassifier                 6.09  \n",
       "ExtraTreesClassifier                26.70  \n",
       "RandomForestClassifier             127.45  \n",
       "DecisionTreeClassifier              44.31  \n",
       "BaggingClassifier                  252.55  \n",
       "ExtraTreeClassifier                  0.85  \n",
       "SVC                                203.98  \n",
       "LinearDiscriminantAnalysis           1.73  \n",
       "LogisticRegression                   4.03  \n",
       "SGDClassifier                       11.23  \n",
       "NearestCentroid                      0.60  \n",
       "BernoulliNB                          0.85  \n",
       "CalibratedClassifierCV             751.75  \n",
       "QuadraticDiscriminantAnalysis        1.55  \n",
       "Perceptron                           1.99  \n",
       "LinearSVC                          203.76  \n",
       "PassiveAggressiveClassifier          2.21  \n",
       "GaussianNB                           0.92  \n",
       "RidgeClassifier                      0.88  \n",
       "AdaBoostClassifier                  61.80  \n",
       "RidgeClassifierCV                    1.64  \n",
       "DummyClassifier                      0.56  "
      ]
     },
     "execution_count": 73,
     "metadata": {},
     "output_type": "execute_result"
    }
   ],
   "source": [
    "models"
   ]
  }
 ],
 "metadata": {
  "kernelspec": {
   "display_name": "Python 3 (ipykernel)",
   "language": "python",
   "name": "python3"
  },
  "language_info": {
   "codemirror_mode": {
    "name": "ipython",
    "version": 3
   },
   "file_extension": ".py",
   "mimetype": "text/x-python",
   "name": "python",
   "nbconvert_exporter": "python",
   "pygments_lexer": "ipython3",
   "version": "3.10.9"
  }
 },
 "nbformat": 4,
 "nbformat_minor": 2
}
