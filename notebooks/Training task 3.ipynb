{
 "cells": [
  {
   "cell_type": "markdown",
   "metadata": {},
   "source": [
    "# Getting started with Task 3"
   ]
  },
  {
   "cell_type": "markdown",
   "metadata": {},
   "source": [
    "Download the dataset from the [Dataset of Simulated Intracardiac Transmembrane Voltage Recordings and ECG Signals](https://library.ucsd.edu/dc/object/bb29449106) using the script `download_intracardiac_dataset.sh`:\n",
    "\n",
    "```bash\n",
    "source download_intracardiac_dataset.sh\n",
    "```"
   ]
  },
  {
   "cell_type": "markdown",
   "metadata": {},
   "source": [
    "## Load Modules and Preprocessing Functions"
   ]
  },
  {
   "cell_type": "markdown",
   "metadata": {},
   "source": [
    "Load modules and preprocessing functions."
   ]
  },
  {
   "cell_type": "code",
   "execution_count": 8,
   "metadata": {},
   "outputs": [],
   "source": [
    "import glob, re, os\n",
    "import numpy as np\n",
    "import matplotlib.pyplot as plt\n",
    "from typing import List"
   ]
  },
  {
   "cell_type": "markdown",
   "metadata": {},
   "source": [
    "Load the `cardiac_ml_tools` module."
   ]
  },
  {
   "cell_type": "code",
   "execution_count": 9,
   "metadata": {},
   "outputs": [],
   "source": [
    "%run cardiac_ml_tools.py"
   ]
  },
  {
   "cell_type": "markdown",
   "metadata": {},
   "source": [
    "## Load the dataset"
   ]
  },
  {
   "cell_type": "code",
   "execution_count": 15,
   "metadata": {},
   "outputs": [
    {
     "name": "stdout",
     "output_type": "stream",
     "text": [
      "Number of file pairs: 16117\n",
      "Example of file pair:\n",
      "../Datasets/intracardiac_dataset/data_hearts_dd_0p2_geo_act_1_bcl_gkr/pECGData_hearts_dd_0p2_geo_act_1_bcl_gkr_bcl.1000.gkr.000.pattern.0.volunteer.v16.npy\n",
      "../Datasets/intracardiac_dataset/data_hearts_dd_0p2_geo_act_1_bcl_gkr/VmData_hearts_dd_0p2_geo_act_1_bcl_gkr_bcl.1000.gkr.000.pattern.0.volunteer.v16.npy\n",
      "(500, 10)\n",
      "(500, 75)\n"
     ]
    }
   ],
   "source": [
    "data_dirs = []\n",
    "regex = r'data_hearts_dd_0p2*'\n",
    "DIR='../Datasets/intracardiac_dataset/' # This should be the path to the intracardiac_dataset, it can be downloaded using data_science_challenge_2023/download_intracardiac_dataset.sh\n",
    "for x in os.listdir(DIR):\n",
    "    if re.match(regex, x):\n",
    "        data_dirs.append(DIR + x)\n",
    "file_pairs = read_data_dirs(data_dirs)\n",
    "print('Number of file pairs: {}'.format(len(file_pairs)))\n",
    "# example of file pair\n",
    "print(\"Example of file pair:\")\n",
    "print(\"{}\\n{}\".format(file_pairs[1][0], file_pairs[1][1]))\n",
    "\n",
    "\n",
    "# How much data is there in each file pair ?\n",
    "data_from_file1 = np.load(file_pairs[1][0])\n",
    "data_from_file2 = np.load(file_pairs[1][1])\n",
    "print(data_from_file1.shape)\n",
    "print(data_from_file2.shape)\n",
    "\n",
    "# This means, each data pair contains one specific patients data/one specific data sample.\n",
    "# How can we load this ? This data is obviously too big\n"
   ]
  },
  {
   "cell_type": "code",
   "execution_count": 12,
   "metadata": {},
   "outputs": [
    {
     "name": "stdout",
     "output_type": "stream",
     "text": [
      "Case 213 : ../Datasets/intracardiac_dataset/data_hearts_dd_0p2_geo_act_1_bcl_gkr/pECGData_hearts_dd_0p2_geo_act_1_bcl_gkr_bcl.1000.gkr.050.pattern.11.volunteer.v9.npy\n"
     ]
    },
    {
     "data": {
      "image/png": "[encoded data removed]",
      "text/plain": [
       "<Figure size 72x720 with 2 Axes>"
      ]
     },
     "metadata": {
      "needs_background": "light"
     },
     "output_type": "display_data"
    }
   ],
   "source": [
    "# Example of file pair\n",
    "case = 213\n",
    "plt.figure(figsize=(1, 10))\n",
    "\n",
    "print('Case {} : {}'.format(case, file_pairs[case][0]))\n",
    "VmData = np.load(file_pairs[case][1])\n",
    "\n",
    "ActTime = get_activation_time(VmData)\n",
    "\n",
    "# plot the Activation Time array\n",
    "plt.imshow(ActTime, cmap='jet', interpolation='nearest', aspect='auto')\n",
    "plt.title('Activation Time')\n",
    "plt.colorbar()\n",
    "plt.grid(visible=True, which='major', color='#666666', linestyle='-')\n",
    "plt.minorticks_on()\n",
    "# not xticks\n",
    "plt.xticks([])\n",
    "plt.grid(visible=True, which='minor', color='#999999', linestyle='-', alpha=0.2)\n",
    "plt.show()\n"
   ]
  },
  {
   "cell_type": "markdown",
   "metadata": {},
   "source": [
    "## Task 3: Learning the mapping from the 12-lead ECG to the activation map"
   ]
  },
  {
   "cell_type": "code",
   "execution_count": 13,
   "metadata": {},
   "outputs": [
    {
     "name": "stdout",
     "output_type": "stream",
     "text": [
      "Case 213 : ../Datasets/intracardiac_dataset/data_hearts_dd_0p2_geo_act_1_bcl_gkr/pECGData_hearts_dd_0p2_geo_act_1_bcl_gkr_bcl.1000.gkr.050.pattern.11.volunteer.v9.npy\n",
      "Case 213 : ../Datasets/intracardiac_dataset/data_hearts_dd_0p2_geo_act_1_bcl_gkr/pECGData_hearts_dd_0p2_geo_act_1_bcl_gkr_bcl.1000.gkr.050.pattern.11.volunteer.v9.npy\n"
     ]
    },
    {
     "data": {
      "image/png": "[encoded data removed]",
      "text/plain": [
       "<Figure size 1440x360 with 3 Axes>"
      ]
     },
     "metadata": {
      "needs_background": "light"
     },
     "output_type": "display_data"
    }
   ],
   "source": [
    "# make a plot with the \"pECGData\" -> \"ActTime\"\n",
    "case = 213\n",
    "\n",
    "print('Case {} : {}'.format(case, file_pairs[case][0]))\n",
    "pECGData = np.load(file_pairs[case][0])\n",
    "pECGData = get_standard_leads(pECGData)\n",
    "\n",
    "print('Case {} : {}'.format(case, file_pairs[case][0]))\n",
    "VmData = np.load(file_pairs[case][1])\n",
    "ActTime = get_activation_time(VmData)\n",
    "\n",
    "# plot in row the tensors pECGData and ActTime with an arrow pointing to the activation time\n",
    "row = 1\n",
    "column = 3\n",
    "plt.figure(figsize=(20, 5))\n",
    "plt.subplot(row, column, 1)\n",
    "# plot pECGData transposed\n",
    "plt.imshow(pECGData.T, cmap='jet', interpolation='nearest', aspect='auto')\n",
    "plt.title('pECGData')\n",
    "plt.subplot(row, column, 2)\n",
    "# print an arrow\n",
    "plt.text(0.5, 0.5, '-------->', horizontalalignment='center', verticalalignment='center', fontsize=20)\n",
    "plt.axis('off')\n",
    "plt.subplot(row, column, 3)\n",
    "# plot ActTime\n",
    "plt.imshow(ActTime, cmap='jet', interpolation='nearest', aspect='auto')\n",
    "# not xticks\n",
    "plt.xticks([])\n",
    "plt.title('ActTime')\n",
    "plt.show()\n",
    "plt.close()"
   ]
  },
  {
   "cell_type": "markdown",
   "metadata": {},
   "source": [
    "# Tricks\n",
    "\n",
    "- As in many machine learning problems, normalization of the data might be helpful or even necessary. Different normalization schemes might be applied."
   ]
  },
  {
   "cell_type": "code",
   "execution_count": null,
   "metadata": {},
   "outputs": [],
   "source": [
    "# What can we say about the data ?\n",
    "\n",
    "# The activation times for different patients lies between 0 and 100 milliseconds\n",
    "# The \\min_{j} V_ij for j \\in [0,500] detects the activation time for each \n",
    "\n",
    "# What is our objective ?\n",
    "\n",
    "\n",
    "# What are we going to use ?"
   ]
  },
  {
   "cell_type": "code",
   "execution_count": 80,
   "metadata": {},
   "outputs": [],
   "source": [
    "# How is the model for the RNN going to be\n",
    "\n",
    "# We need to define the input shape\n",
    "# Then we need to define the output shape\n",
    "# Then we need to define the model!\n",
    "from torch import nn\n",
    "import torch\n",
    "from torch import optim\n",
    "\n",
    "class RNN(nn.Module):\n",
    "    def __init__(self, inpDim, outDim):\n",
    "        super().__init__()\n",
    "        self.EcgStack = nn.Sequential(\n",
    "            nn.Linear(inpDim, 256),\n",
    "            nn.ReLU(),\n",
    "            nn.Linear(256, 512),\n",
    "            nn.ReLU(),\n",
    "            nn.Linear(512, 128),\n",
    "            nn.ReLU(),\n",
    "            nn.Linear(128, 64),\n",
    "            nn.ReLU(),\n",
    "            nn.Linear(64, inpDim),\n",
    "            nn.ReLU(),\n",
    "            nn.Softmax()\n",
    "        )\n",
    "        self.VoltageStack = nn.Sequential(\n",
    "            nn.Linear(inpDim, 32),\n",
    "            nn.ReLU(),\n",
    "            nn.Linear(32, 64),\n",
    "            nn.ReLU(),\n",
    "            nn.Linear(64, outDim),\n",
    "            nn.ReLU(),\n",
    "            nn.Softmax()\n",
    "        )\n",
    "        \n",
    "    def forward(self, Vinp, EcgInp):\n",
    "        # Let's have input aggregated for both the Voltage\n",
    "        \n",
    "        # If train vs if not-train\n",
    "        VoltageOutput = []\n",
    "        EcgOutput = []\n",
    "        if self.train:\n",
    "            for i in range(500):\n",
    "                if i != 499:\n",
    "                    EcgOutput.append(self.EcgStack(EcgInp[i,:]))\n",
    "\n",
    "                VoltageOutput.append(self.VoltageStack(EcgInp[i, :]))\n",
    "                \n",
    "        if not self.train:\n",
    "\n",
    "            # Just take the first step\n",
    "            for i in range(500):\n",
    "                EcgOutput.append(EcgInp)\n",
    "                EcgOp = self.ecgStack(EcgInp)\n",
    "                EcgOutput.append(EcgOp)\n",
    "                EcgInp = EcgOutput\n",
    "                VOp = self.VoltageStack(Vinp)\n",
    "                VoltageOutput.append(Vinp)\n",
    "                VoltageOuput.append(VOp)\n",
    "                Vinp = VOp\n",
    "                \n",
    "        \n",
    "        return torch.stack(VoltageOutput, axis=0), torch.stack(EcgOutput, axis=0)\n",
    "    \n",
    "    "
   ]
  },
  {
   "cell_type": "code",
   "execution_count": 87,
   "metadata": {},
   "outputs": [],
   "source": [
    "# Let's see if the network works\n",
    "model = RNN(inpDim = 12, outDim=75)\n",
    "model.train()\n",
    "Voltage, ecg = model(torch.from_numpy(get_standard_leads(data_from_file1)).float(), torch.from_numpy(get_standard_leads(data_from_file2)).float())\n",
    "\n",
    "# Alright, if it works, create the optimizer\n",
    "optimizer = optim.Adam(model.parameters(), lr = 1e-3)"
   ]
  },
  {
   "cell_type": "code",
   "execution_count": null,
   "metadata": {
    "scrolled": true
   },
   "outputs": [
    {
     "name": "stdout",
     "output_type": "stream",
     "text": [
      "Loss: 0.08845277595707234 iterate: 0\n",
      "Loss: 0.07517556430212495 iterate: 100\n",
      "Loss: 0.09042922471771397 iterate: 200\n",
      "Loss: 0.09440226617760492 iterate: 300\n",
      "Loss: 0.06359421707410025 iterate: 400\n",
      "Loss: 0.10571583811170693 iterate: 500\n",
      "Loss: 0.11238685615413352 iterate: 600\n",
      "Loss: 0.07942703758449751 iterate: 700\n",
      "Loss: 0.0769221261355508 iterate: 800\n",
      "Loss: 0.10001780498366714 iterate: 900\n",
      "Loss: 0.06275459586859529 iterate: 1000\n",
      "Loss: 0.07155699970096038 iterate: 1100\n",
      "Loss: 0.09953470795984694 iterate: 1200\n",
      "Loss: 0.09205355033248941 iterate: 1300\n",
      "Loss: 0.07933707495619671 iterate: 1400\n",
      "Loss: 0.08267256424651896 iterate: 1500\n",
      "Loss: 0.10227523684725381 iterate: 1600\n",
      "Loss: 0.09874344799126589 iterate: 1700\n",
      "Loss: 0.08675161388657301 iterate: 1800\n",
      "Loss: 0.1028653236618844 iterate: 1900\n",
      "Loss: 0.08167064181666492 iterate: 2000\n",
      "Loss: 0.08320432530417796 iterate: 2100\n",
      "Loss: 0.07933705183179963 iterate: 2200\n",
      "Loss: 0.08301824981578626 iterate: 2300\n",
      "Loss: 0.08597309000661787 iterate: 2400\n",
      "Loss: 0.0672022732285501 iterate: 2500\n",
      "Loss: 0.08531321776666209 iterate: 2600\n",
      "Loss: 0.07867087153983854 iterate: 2700\n",
      "Loss: 0.1002549653170557 iterate: 2800\n",
      "Loss: 0.0783852712890678 iterate: 2900\n",
      "Loss: 0.0922268705219974 iterate: 3000\n",
      "Loss: 0.06854553628929652 iterate: 3100\n",
      "Loss: 0.10129069936445668 iterate: 3200\n",
      "Loss: 0.10757890113329269 iterate: 3300\n",
      "Loss: 0.06315406203202535 iterate: 3400\n",
      "Loss: 0.06780088382955603 iterate: 3500\n",
      "Loss: 0.07822018772034586 iterate: 3600\n",
      "Loss: 0.09059165522186807 iterate: 3700\n",
      "Loss: 0.08136963184787414 iterate: 3800\n",
      "Loss: 0.08969727856694472 iterate: 3900\n",
      "Loss: 0.08804674835026297 iterate: 4000\n",
      "Loss: 0.08919875151560183 iterate: 4100\n"
     ]
    }
   ],
   "source": [
    "# Now let's start training the stuff\n",
    "\n",
    "\n",
    "# Iterate over the data\n",
    "for i, file_pair in enumerate(file_pairs):\n",
    "    torchEcg, torchVoltage = torch.from_numpy(get_standard_leads(np.load(file_pair[0]))), torch.from_numpy(np.load(file_pair[1]))\n",
    "    torchEcg, torchVoltage = torch.nn.functional.normalize(torchEcg, p=2., dim=1),torch.nn.functional.normalize(torchVoltage, p=2., dim=1)\n",
    "    torchNVoltage, torchNEcg = model(torchVoltage.float(), torchEcg.float())\n",
    "    loss = torch.mean(torch.square(torchNEcg - torchEcg[1:,:])) + torch.mean(torch.square(torchNVoltage - torchVoltage))\n",
    "    optimizer.zero_grad()\n",
    "    loss.backward()\n",
    "    optimizer.step()\n",
    "    if i % 100 == 0:    \n",
    "        print('Loss: '+str(loss.item()) +' iterate: ' +str(i))\n",
    "\n",
    "    \n",
    "    \n",
    "    "
   ]
  },
  {
   "cell_type": "code",
   "execution_count": null,
   "metadata": {},
   "outputs": [],
   "source": []
  }
 ],
 "metadata": {
  "interpreter": {
   "hash": "31f2aee4e71d21fbe5cf8b01ff0e069b9275f58929596ceb00d14d90e3e16cd6"
  },
  "kernelspec": {
   "display_name": "Python 3",
   "language": "python",
   "name": "python3"
  },
  "language_info": {
   "codemirror_mode": {
    "name": "ipython",
    "version": 3
   },
   "file_extension": ".py",
   "mimetype": "text/x-python",
   "name": "python",
   "nbconvert_exporter": "python",
   "pygments_lexer": "ipython3",
   "version": "3.9.4"
  }
 },
 "nbformat": 4,
 "nbformat_minor": 1
}
