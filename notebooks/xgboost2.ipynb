{
  "nbformat": 4,
  "nbformat_minor": 0,
  "metadata": {
    "colab": {
      "provenance": [],
      "gpuType": "T4"
    },
    "kernelspec": {
      "name": "python3",
      "display_name": "Python 3"
    },
    "language_info": {
      "name": "python"
    },
    "accelerator": "GPU"
  },
  "cells": [
    {
      "cell_type": "code",
      "source": [
        "from google.colab import drive\n",
        "drive.mount('/content/drive')"
      ],
      "metadata": {
        "colab": {
          "base_uri": "https://localhost:8080/"
        },
        "id": "Z9LXEd7SrWKa",
        "outputId": "a05ef422-6a84-4312-f7e0-615c71fef7cd"
      },
      "execution_count": null,
      "outputs": [
        {
          "output_type": "stream",
          "name": "stdout",
          "text": [
            "Drive already mounted at /content/drive; to attempt to forcibly remount, call drive.mount(\"/content/drive\", force_remount=True).\n"
          ]
        }
      ]
    },
    {
      "cell_type": "code",
      "execution_count": null,
      "metadata": {
        "id": "PiuLQsQnpvwl"
      },
      "outputs": [],
      "source": [
        "#Import libraries\n",
        "import xgboost as xgb\n",
        "from xgboost import XGBClassifier\n",
        "import pandas as pd\n",
        "import numpy as np\n",
        "import matplotlib.pyplot as plt\n",
        "import seaborn as sns\n",
        "from sklearn.model_selection import train_test_split\n",
        "from sklearn import metrics\n",
        "from sklearn.model_selection import GridSearchCV"
      ]
    },
    {
      "cell_type": "code",
      "source": [
        "#Import Dataset + Data Preprocessing\n",
        "df_mitbih_train = pd.read_csv(r\"/content/drive/MyDrive/Datasets/ecg_dataset/mitbih_train.csv\", header=None)\n",
        "df_mitbih_test = pd.read_csv(r\"/content/drive/MyDrive/Datasets/ecg_dataset/mitbih_test.csv\", header=None)\n",
        "\n",
        "df_mitbih_train.shape, df_mitbih_test.shape"
      ],
      "metadata": {
        "colab": {
          "base_uri": "https://localhost:8080/"
        },
        "id": "vdBkAKv3qCgU",
        "outputId": "dda3d978-f8c5-429f-8e3a-56000f1fbf75"
      },
      "execution_count": null,
      "outputs": [
        {
          "output_type": "execute_result",
          "data": {
            "text/plain": [
              "((87554, 188), (21892, 188))"
            ]
          },
          "metadata": {},
          "execution_count": 3
        }
      ]
    },
    {
      "cell_type": "code",
      "source": [
        "X_train = df_mitbih_train.drop(columns=[187])\n",
        "y_train = df_mitbih_train[187]\n",
        "X_test = df_mitbih_test.drop(columns=[187])\n",
        "y_test = df_mitbih_test[187]"
      ],
      "metadata": {
        "id": "4-VAM-OUqFqD"
      },
      "execution_count": null,
      "outputs": []
    },
    {
      "cell_type": "code",
      "source": [
        "model = xgb.XGBClassifier(tree_method='gpu_hist', gpu_id=0, objective = 'multi:softmax', n_jobs = -1, num_class = 5, learning_rate = 0.1)\n",
        "model.fit(X_train, y_train)\n",
        "print(); print(model)"
      ],
      "metadata": {
        "colab": {
          "base_uri": "https://localhost:8080/"
        },
        "id": "9UDsJXOiqI82",
        "outputId": "094c9965-a252-4cbd-e3c2-c2e5c3cc4e86"
      },
      "execution_count": null,
      "outputs": [
        {
          "output_type": "stream",
          "name": "stdout",
          "text": [
            "\n",
            "XGBClassifier(base_score=None, booster=None, callbacks=None,\n",
            "              colsample_bylevel=None, colsample_bynode=None,\n",
            "              colsample_bytree=None, early_stopping_rounds=None,\n",
            "              enable_categorical=False, eval_metric=None, feature_types=None,\n",
            "              gamma=None, gpu_id=0, grow_policy=None, importance_type=None,\n",
            "              interaction_constraints=None, learning_rate=0.1, max_bin=None,\n",
            "              max_cat_threshold=None, max_cat_to_onehot=None,\n",
            "              max_delta_step=None, max_depth=None, max_leaves=None,\n",
            "              min_child_weight=None, missing=nan, monotone_constraints=None,\n",
            "              n_estimators=100, n_jobs=-1, num_class=5, num_parallel_tree=None,\n",
            "              objective='multi:softmax', ...)\n"
          ]
        }
      ]
    },
    {
      "cell_type": "code",
      "source": [
        "expected_y  = y_test\n",
        "predicted_y = model.predict(X_test)\n",
        "\n",
        "print(metrics.classification_report(expected_y, predicted_y))"
      ],
      "metadata": {
        "colab": {
          "base_uri": "https://localhost:8080/"
        },
        "id": "w9MXxUfsqOJ4",
        "outputId": "46c02664-3b20-4955-a27a-8410786bca68"
      },
      "execution_count": null,
      "outputs": [
        {
          "output_type": "stream",
          "name": "stdout",
          "text": [
            "              precision    recall  f1-score   support\n",
            "\n",
            "         0.0       0.97      1.00      0.99     18118\n",
            "         1.0       0.94      0.61      0.74       556\n",
            "         2.0       0.97      0.89      0.92      1448\n",
            "         3.0       0.86      0.69      0.77       162\n",
            "         4.0       0.99      0.95      0.97      1608\n",
            "\n",
            "    accuracy                           0.97     21892\n",
            "   macro avg       0.95      0.83      0.88     21892\n",
            "weighted avg       0.97      0.97      0.97     21892\n",
            "\n"
          ]
        }
      ]
    },
    {
      "cell_type": "code",
      "source": [
        "n_estimators = range(0, 16000, 1000)\n",
        "param_grid = dict(n_estimators=n_estimators)\n",
        "\n",
        "grid_cv = GridSearchCV(model, param_grid, return_train_score = True, verbose = 3)\n",
        "_ = grid_cv.fit(X_test, y_test)\n",
        "\n",
        "print(f'Best Parameters:', grid_cv.best_params_)\n",
        "print(f'Best Score:', grid_cv.best_score_)"
      ],
      "metadata": {
        "colab": {
          "base_uri": "https://localhost:8080/"
        },
        "id": "9LkdRp2KqStn",
        "outputId": "216e80b3-77fc-4dbf-984b-6d349b79998a"
      },
      "execution_count": null,
      "outputs": [
        {
          "output_type": "stream",
          "name": "stdout",
          "text": [
            "Fitting 5 folds for each of 16 candidates, totalling 80 fits\n",
            "[CV 1/5] END n_estimators=0;, score=(train=0.828, test=0.828) total time=   1.5s\n",
            "[CV 2/5] END n_estimators=0;, score=(train=0.828, test=0.828) total time=   1.3s\n",
            "[CV 3/5] END n_estimators=0;, score=(train=0.828, test=0.828) total time=   1.2s\n",
            "[CV 4/5] END n_estimators=0;, score=(train=0.828, test=0.828) total time=   1.3s\n",
            "[CV 5/5] END n_estimators=0;, score=(train=0.828, test=0.828) total time=   1.2s\n",
            "[CV 1/5] END n_estimators=1000;, score=(train=1.000, test=0.976) total time=  19.8s\n",
            "[CV 2/5] END n_estimators=1000;, score=(train=1.000, test=0.969) total time=  18.5s\n",
            "[CV 3/5] END n_estimators=1000;, score=(train=1.000, test=0.973) total time=  19.3s\n",
            "[CV 4/5] END n_estimators=1000;, score=(train=1.000, test=0.977) total time=  18.7s\n",
            "[CV 5/5] END n_estimators=1000;, score=(train=1.000, test=0.973) total time=  19.4s\n",
            "[CV 1/5] END n_estimators=2000;, score=(train=1.000, test=0.976) total time=  30.1s\n",
            "[CV 2/5] END n_estimators=2000;, score=(train=1.000, test=0.969) total time=  30.2s\n",
            "[CV 3/5] END n_estimators=2000;, score=(train=1.000, test=0.974) total time=  30.4s\n",
            "[CV 4/5] END n_estimators=2000;, score=(train=1.000, test=0.977) total time=  30.2s\n",
            "[CV 5/5] END n_estimators=2000;, score=(train=1.000, test=0.972) total time=  30.9s\n",
            "[CV 1/5] END n_estimators=3000;, score=(train=1.000, test=0.977) total time=  40.3s\n",
            "[CV 2/5] END n_estimators=3000;, score=(train=1.000, test=0.969) total time=  40.1s\n",
            "[CV 3/5] END n_estimators=3000;, score=(train=1.000, test=0.974) total time=  40.1s\n",
            "[CV 4/5] END n_estimators=3000;, score=(train=1.000, test=0.978) total time=  40.7s\n",
            "[CV 5/5] END n_estimators=3000;, score=(train=1.000, test=0.972) total time=  40.3s\n",
            "[CV 1/5] END n_estimators=4000;, score=(train=1.000, test=0.977) total time=  50.1s\n",
            "[CV 2/5] END n_estimators=4000;, score=(train=1.000, test=0.970) total time=  49.6s\n"
          ]
        }
      ]
    },
    {
      "cell_type": "code",
      "source": [],
      "metadata": {
        "id": "HW0cjqGxvtKp"
      },
      "execution_count": null,
      "outputs": []
    }
  ]
}