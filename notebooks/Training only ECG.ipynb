{
 "cells": [
  {
   "cell_type": "code",
   "execution_count": 1,
   "metadata": {},
   "outputs": [],
   "source": [
    "# Let's load all of our data\n",
    "from torch import nn\n",
    "import torch\n",
    "import glob, re, os\n",
    "import numpy as np\n",
    "import matplotlib.pyplot as plt\n",
    "from typing import List\n",
    "\n",
    "#  And let's load the ml_tools.py\n",
    "%run cardiac_ml_tools.py"
   ]
  },
  {
   "cell_type": "code",
   "execution_count": 3,
   "metadata": {},
   "outputs": [],
   "source": [
    "# We are reading the filesystem and getting the file directories \n",
    "data_dirs = []\n",
    "regex = r'data_hearts_dd_0p2*'\n",
    "DIR='../Datasets/intracardiac_dataset/' # This should be the path to the intracardiac_dataset, it can be downloaded using data_science_challenge_2023/download_intracardiac_dataset.sh\n",
    "for x in os.listdir(DIR):\n",
    "    if re.match(regex, x):\n",
    "        data_dirs.append(DIR + x)\n",
    "file_pairs = read_data_dirs(data_dirs)"
   ]
  },
  {
   "cell_type": "code",
   "execution_count": 11,
   "metadata": {},
   "outputs": [
    {
     "name": "stdout",
     "output_type": "stream",
     "text": [
      "(16117, 500, 12)\n"
     ]
    }
   ],
   "source": [
    "# Now, let's load the data itself\\\n",
    "ecg = []\n",
    "for file_ecg, file_volt in file_pairs:\n",
    "    ecg.append(get_standard_leads(np.load(file_ecg)))\n",
    "ecg = np.stack(ecg, axis = 0)\n",
    "print(ecg.shape)"
   ]
  },
  {
   "cell_type": "code",
   "execution_count": 12,
   "metadata": {},
   "outputs": [],
   "source": [
    "# Let's figure out the training data and testing data\n",
    "ecg_training_data = ecg[:int(0.8*ecg.shape[0])]\n",
    "ecg_testing_data = ecg[int(0.8*ecg.shape[0]):]"
   ]
  },
  {
   "cell_type": "code",
   "execution_count": 13,
   "metadata": {},
   "outputs": [],
   "source": [
    "# How is the model for the RNN going to be\n",
    "\n",
    "# We need to define the input shape\n",
    "# Then we need to define the output shape\n",
    "# Then we need to define the model!\n",
    "from torch import nn\n",
    "import torch\n",
    "from torch import optim\n",
    "\n",
    "class RNN(nn.Module):\n",
    "    def __init__(self, inpDim, outDim):\n",
    "        super().__init__()\n",
    "        self.EcgStack = nn.Sequential(\n",
    "            nn.Linear(inpDim, 256),\n",
    "            nn.ReLU(),\n",
    "            nn.Linear(256, 512),\n",
    "            nn.ReLU(),\n",
    "            nn.Linear(512, 128),\n",
    "            nn.ReLU(),\n",
    "            nn.Linear(128, 64),\n",
    "            nn.ReLU(),\n",
    "            nn.Linear(64, inpDim),\n",
    "            nn.ReLU(),\n",
    "            nn.Softmax()\n",
    "        )\n",
    "        \n",
    "    def forward(self, EcgInp):\n",
    "        # Let's have input aggregated for both the Voltage\n",
    "        \n",
    "        # If train vs if not-train\n",
    "        EcgOutput = []\n",
    "        if self.train:\n",
    "            for i in range(500):\n",
    "                if i != 499:\n",
    "                    EcgOutput.append(self.EcgStack(EcgInp[i,:]))\n",
    "\n",
    "                \n",
    "        if not self.train:\n",
    "            EcgInp = EcgInp[0,:]\n",
    "\n",
    "            # Just take the first step\n",
    "            EcgOutput.append(EcgInp)\n",
    "            for i in range(500):\n",
    "                EcgOp = self.EcgStack(EcgInp)\n",
    "                EcgOutput.append(EcgOp)     \n",
    "        \n",
    "        return torch.stack(EcgOutput, axis=0)\n",
    "    \n",
    "    "
   ]
  },
  {
   "cell_type": "code",
   "execution_count": 25,
   "metadata": {},
   "outputs": [
    {
     "name": "stdout",
     "output_type": "stream",
     "text": [
      "torch.Size([499, 12])\n"
     ]
    },
    {
     "name": "stderr",
     "output_type": "stream",
     "text": [
      "/Users/aditya-the-great/miniconda3/envs/torch-dev/lib/python3.9/site-packages/torch/nn/modules/container.py:139: UserWarning: Implicit dimension choice for softmax has been deprecated. Change the call to include dim=X as an argument.\n",
      "  input = module(input)\n"
     ]
    }
   ],
   "source": [
    "# Let's see if the network works\n",
    "model = RNN(inpDim = 12, outDim=75)\n",
    "model.train()\n",
    "ecg = model(torch.from_numpy(ecg_training_data[0, :,:]).float())\n",
    "print(ecg.shape)\n",
    "\n",
    "# Alright, if it works, create the optimizer\n",
    "optimizer = optim.Adam(model.parameters(), lr = 1e-4)"
   ]
  },
  {
   "cell_type": "code",
   "execution_count": null,
   "metadata": {
    "scrolled": true
   },
   "outputs": [
    {
     "name": "stdout",
     "output_type": "stream",
     "text": [
      "Epoch:0 Loss: 0.05549771136002855 iterate: 9\n",
      "Epoch:0 Loss: 0.1477966277318946 iterate: 19\n",
      "Epoch:0 Loss: 0.10279217049379442 iterate: 29\n",
      "Epoch:0 Loss: 0.0493450168410959 iterate: 39\n",
      "Epoch:0 Loss: 0.0903923823217024 iterate: 49\n",
      "Epoch:0 Loss: 0.06251231549833836 iterate: 59\n",
      "Epoch:0 Loss: 0.11184687595521209 iterate: 69\n",
      "Epoch:0 Loss: 0.04740544543832022 iterate: 79\n",
      "Epoch:0 Loss: 0.07496152483351495 iterate: 89\n",
      "Epoch:0 Loss: 0.03352628120517923 iterate: 99\n",
      "Epoch:0 Loss: 0.033024667084183584 iterate: 109\n",
      "Epoch:0 Loss: 0.06293620611250575 iterate: 119\n",
      "Epoch:0 Loss: 0.03129428545656336 iterate: 129\n",
      "Epoch:0 Loss: 0.09335569865800432 iterate: 139\n",
      "Epoch:0 Loss: 0.06843430762290278 iterate: 149\n",
      "Epoch:0 Loss: 0.11061789290337289 iterate: 159\n",
      "Epoch:0 Loss: 0.07560491985910564 iterate: 169\n",
      "Epoch:0 Loss: 0.06127453034743152 iterate: 179\n",
      "Epoch:0 Loss: 0.114273071921563 iterate: 189\n",
      "Epoch:0 Loss: 0.07903290847901148 iterate: 199\n",
      "Epoch:0 Loss: 0.12819146471418097 iterate: 209\n",
      "Epoch:0 Loss: 0.04150869956402525 iterate: 219\n",
      "Epoch:0 Loss: 0.04308039310846325 iterate: 229\n",
      "Epoch:0 Loss: 0.0646973016562792 iterate: 239\n",
      "Epoch:0 Loss: 0.03489308497312264 iterate: 249\n",
      "Epoch:0 Loss: 0.0404483740458374 iterate: 259\n",
      "Epoch:0 Loss: 0.07598791268302543 iterate: 269\n",
      "Epoch:0 Loss: 0.0395362635908301 iterate: 279\n",
      "Epoch:0 Loss: 0.029190083870967675 iterate: 289\n",
      "Epoch:0 Loss: 0.0539487457718546 iterate: 299\n",
      "Epoch:0 Loss: 0.01932189269771079 iterate: 309\n",
      "Epoch:0 Loss: 0.06564198605689035 iterate: 319\n",
      "Epoch:0 Loss: 0.12196342300679461 iterate: 329\n",
      "Epoch:0 Loss: 0.04683555345408801 iterate: 339\n",
      "Epoch:0 Loss: 0.181744902046605 iterate: 349\n",
      "Epoch:0 Loss: 0.05603415869118113 iterate: 359\n",
      "Epoch:0 Loss: 0.020372461296186528 iterate: 369\n",
      "Epoch:0 Loss: 0.058681033847639376 iterate: 379\n",
      "Epoch:0 Loss: 0.07169771416530152 iterate: 389\n",
      "Epoch:0 Loss: 0.02985221840112758 iterate: 399\n",
      "Epoch:0 Loss: 0.04743096412295306 iterate: 409\n",
      "Epoch:0 Loss: 0.06415109968734635 iterate: 419\n",
      "Epoch:0 Loss: 0.053803942143736024 iterate: 429\n",
      "Epoch:0 Loss: 0.07240446291147525 iterate: 439\n",
      "Epoch:0 Loss: 0.022245425206353656 iterate: 449\n",
      "Epoch:0 Loss: 0.020776943209556687 iterate: 459\n",
      "Epoch:0 Loss: 0.04185598550720754 iterate: 469\n",
      "Epoch:0 Loss: 0.05396867737016876 iterate: 479\n",
      "Epoch:0 Loss: 0.1072424675339771 iterate: 489\n",
      "Epoch:0 Loss: 0.10839331710209674 iterate: 499\n",
      "Epoch:0 Loss: 0.2637899809926014 iterate: 509\n",
      "Epoch:0 Loss: 0.15350298293544484 iterate: 519\n",
      "Epoch:0 Loss: 0.030333458902770533 iterate: 529\n",
      "Epoch:0 Loss: 0.02679611749209283 iterate: 539\n",
      "Epoch:0 Loss: 0.09188584897285544 iterate: 549\n",
      "Epoch:0 Loss: 0.027478383149697538 iterate: 559\n",
      "Epoch:0 Loss: 0.027843726350412597 iterate: 569\n",
      "Epoch:0 Loss: 0.061308133120296225 iterate: 579\n",
      "Epoch:0 Loss: 0.036818282516255275 iterate: 589\n",
      "Epoch:0 Loss: 0.03076896462993113 iterate: 599\n",
      "Epoch:0 Loss: 0.03207598895811129 iterate: 609\n",
      "Epoch:0 Loss: 0.06719474986982969 iterate: 619\n",
      "Epoch:0 Loss: 0.027683143988165754 iterate: 629\n",
      "Epoch:0 Loss: 0.102979155101248 iterate: 639\n",
      "Epoch:0 Loss: 0.014685770604565792 iterate: 649\n",
      "Epoch:0 Loss: 0.05005210779063628 iterate: 659\n",
      "Epoch:0 Loss: 0.070175314435668 iterate: 669\n",
      "Epoch:0 Loss: 0.033281391027995925 iterate: 679\n",
      "Epoch:0 Loss: 0.08184999412351089 iterate: 689\n",
      "Epoch:0 Loss: 0.02951602415951551 iterate: 699\n",
      "Epoch:0 Loss: 0.02723188473907556 iterate: 709\n",
      "Epoch:0 Loss: 0.03993468514928959 iterate: 719\n",
      "Epoch:0 Loss: 0.039818842528575475 iterate: 729\n"
     ]
    }
   ],
   "source": [
    "# Now let's start training the stuff\n",
    "EPOCHS = 10\n",
    "\n",
    "# Iterate over the data\n",
    "training_data_points = ecg_training_data.shape[0]\n",
    "for epoch in range(EPOCHS):\n",
    "    for i in range(training_data_points):\n",
    "        torchEcg = torch.from_numpy(ecg_training_data[i, :,:])\n",
    "        torchNEcg = model(torchEcg.float())\n",
    "        loss = torch.mean(torch.square(torchNEcg - torchEcg[1:,:]))\n",
    "        optimizer.zero_grad()\n",
    "        loss.backward()\n",
    "        optimizer.step()\n",
    "        if (i+1) % 10 == 0:    \n",
    "            print('Epoch:'+str(epoch)+' Loss: '+str(loss.item()) +' iterate: ' +str(i))\n",
    "        \n",
    "        if (i+1) % 13000 == 0:\n",
    "            break\n",
    "\n",
    "    \n",
    "    \n",
    "    "
   ]
  },
  {
   "cell_type": "code",
   "execution_count": 22,
   "metadata": {},
   "outputs": [
    {
     "name": "stdout",
     "output_type": "stream",
     "text": [
      "torch.Size([501, 12])\n"
     ]
    }
   ],
   "source": [
    "# Testing the data\n",
    "model.train = False\n",
    "torchNEcg = model(torchEcg.float())\n",
    "print(torchNEcg.shape)"
   ]
  },
  {
   "cell_type": "code",
   "execution_count": 24,
   "metadata": {},
   "outputs": [
    {
     "data": {
      "text/plain": [
       "[<matplotlib.lines.Line2D at 0x7f99938981c0>]"
      ]
     },
     "execution_count": 24,
     "metadata": {},
     "output_type": "execute_result"
    },
    {
     "data": {
      "image/png": "[encoded data removed]",
      "text/plain": [
       "<Figure size 432x288 with 1 Axes>"
      ]
     },
     "metadata": {
      "needs_background": "light"
     },
     "output_type": "display_data"
    }
   ],
   "source": [
    "\n",
    "plt.plot(torchNEcg[:,10].detach().numpy())"
   ]
  },
  {
   "cell_type": "code",
   "execution_count": null,
   "metadata": {},
   "outputs": [],
   "source": []
  }
 ],
 "metadata": {
  "interpreter": {
   "hash": "31f2aee4e71d21fbe5cf8b01ff0e069b9275f58929596ceb00d14d90e3e16cd6"
  },
  "kernelspec": {
   "display_name": "Python 3 (ipykernel)",
   "language": "python",
   "name": "python3"
  },
  "language_info": {
   "codemirror_mode": {
    "name": "ipython",
    "version": 3
   },
   "file_extension": ".py",
   "mimetype": "text/x-python",
   "name": "python",
   "nbconvert_exporter": "python",
   "pygments_lexer": "ipython3",
   "version": "3.9.13"
  }
 },
 "nbformat": 4,
 "nbformat_minor": 1
}
